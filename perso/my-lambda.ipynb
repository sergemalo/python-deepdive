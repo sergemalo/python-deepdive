{
 "cells": [
  {
   "cell_type": "markdown",
   "id": "79e6ba87-7764-4a32-a9db-e81bd30a20c5",
   "metadata": {},
   "source": [
    "# Lambda Expressions\n",
    "Meant to be very small anonymous function - only one expression"
   ]
  },
  {
   "cell_type": "code",
   "execution_count": 3,
   "id": "837521d8-8968-447b-9b37-d0dd57ea336d",
   "metadata": {
    "tags": []
   },
   "outputs": [
    {
     "name": "stdout",
     "output_type": "stream",
     "text": [
      "toto\n"
     ]
    }
   ],
   "source": [
    "a = lambda : print('toto')\n",
    "a()"
   ]
  },
  {
   "cell_type": "code",
   "execution_count": 4,
   "id": "c478ef61-2189-448c-bb27-1c0e64049f68",
   "metadata": {
    "tags": []
   },
   "outputs": [
    {
     "data": {
      "text/plain": [
       "81"
      ]
     },
     "execution_count": 4,
     "metadata": {},
     "output_type": "execute_result"
    }
   ],
   "source": [
    "sq = lambda x:x*x\n",
    "sq(9)"
   ]
  },
  {
   "cell_type": "code",
   "execution_count": 5,
   "id": "f69e08f9-edb5-4da7-913f-279cb45f0cf0",
   "metadata": {
    "tags": []
   },
   "outputs": [
    {
     "data": {
      "text/plain": [
       "function"
      ]
     },
     "execution_count": 5,
     "metadata": {},
     "output_type": "execute_result"
    }
   ],
   "source": [
    "type(sq)"
   ]
  },
  {
   "cell_type": "code",
   "execution_count": 13,
   "id": "976b466e-a128-4aa0-a62c-8829006374fe",
   "metadata": {
    "tags": []
   },
   "outputs": [
    {
     "name": "stdout",
     "output_type": "stream",
     "text": [
      "25\n"
     ]
    }
   ],
   "source": [
    "def apply_function(x, fn: \"function\"):\n",
    "    print(fn(x))\n",
    "apply_function(5, sq)"
   ]
  },
  {
   "cell_type": "code",
   "execution_count": 15,
   "id": "ce2e908d-58d1-4cc5-b217-bf0def681588",
   "metadata": {
    "tags": []
   },
   "outputs": [
    {
     "data": {
      "text/plain": [
       "1632085998128"
      ]
     },
     "execution_count": 15,
     "metadata": {},
     "output_type": "execute_result"
    }
   ],
   "source": [
    "id(sq)"
   ]
  },
  {
   "cell_type": "code",
   "execution_count": 23,
   "id": "ad8888c4-f160-4833-8f54-8837b198998b",
   "metadata": {
    "tags": []
   },
   "outputs": [
    {
     "data": {
      "text/plain": [
       "(1, 100, {})"
      ]
     },
     "execution_count": 23,
     "metadata": {},
     "output_type": "execute_result"
    }
   ],
   "source": [
    "f = lambda x, *args, y, **kwargs: (x, *args, y, kwargs)\n",
    "f(1, y=100)"
   ]
  },
  {
   "cell_type": "code",
   "execution_count": 24,
   "id": "11809865-6a21-4c59-8385-a38751e3ea29",
   "metadata": {
    "tags": []
   },
   "outputs": [
    {
     "data": {
      "text/plain": [
       "(1, 2, 3, 100, {'z': 111})"
      ]
     },
     "execution_count": 24,
     "metadata": {},
     "output_type": "execute_result"
    }
   ],
   "source": [
    "f(1, 2 , 3, y=100, z=111)"
   ]
  },
  {
   "cell_type": "code",
   "execution_count": 25,
   "id": "8643fc5e-a4b3-4c21-a46c-d20a2959965e",
   "metadata": {
    "tags": []
   },
   "outputs": [
    {
     "name": "stdout",
     "output_type": "stream",
     "text": [
      "222\n"
     ]
    }
   ],
   "source": [
    "apply_function(111, lambda x: x*2)"
   ]
  },
  {
   "cell_type": "code",
   "execution_count": 30,
   "id": "36623c1a-3231-48bb-8cba-f290847ab6d3",
   "metadata": {
    "tags": []
   },
   "outputs": [
    {
     "data": {
      "text/plain": [
       "6"
      ]
     },
     "execution_count": 30,
     "metadata": {},
     "output_type": "execute_result"
    }
   ],
   "source": [
    "sum(range(1,4))"
   ]
  },
  {
   "cell_type": "code",
   "execution_count": 32,
   "id": "f548444d-142d-4c12-bb9b-03b66147f13c",
   "metadata": {
    "tags": []
   },
   "outputs": [
    {
     "ename": "TypeError",
     "evalue": "'str' object cannot be interpreted as an integer",
     "output_type": "error",
     "traceback": [
      "\u001b[1;31m---------------------------------------------------------------------------\u001b[0m",
      "\u001b[1;31mTypeError\u001b[0m                                 Traceback (most recent call last)",
      "Cell \u001b[1;32mIn[32], line 1\u001b[0m\n\u001b[1;32m----> 1\u001b[0m \u001b[38;5;28msum\u001b[39m(\u001b[38;5;28;43mrange\u001b[39;49m\u001b[43m(\u001b[49m\u001b[38;5;124;43m'\u001b[39;49m\u001b[38;5;124;43ma\u001b[39;49m\u001b[38;5;124;43m'\u001b[39;49m\u001b[43m,\u001b[49m\u001b[43m \u001b[49m\u001b[38;5;124;43m'\u001b[39;49m\u001b[38;5;124;43mc\u001b[39;49m\u001b[38;5;124;43m'\u001b[39;49m\u001b[43m)\u001b[49m)\n",
      "\u001b[1;31mTypeError\u001b[0m: 'str' object cannot be interpreted as an integer"
     ]
    }
   ],
   "source": [
    "sum(range('a', 'c'))"
   ]
  },
  {
   "cell_type": "code",
   "execution_count": 34,
   "id": "1a6d36c2-a22f-4441-8ba8-06001ee8ea0e",
   "metadata": {
    "tags": []
   },
   "outputs": [
    {
     "data": {
      "text/plain": [
       "1"
      ]
     },
     "execution_count": 34,
     "metadata": {},
     "output_type": "execute_result"
    }
   ],
   "source": [
    "int('1')"
   ]
  },
  {
   "cell_type": "markdown",
   "id": "e5d40343-e220-4e46-865f-e7bb7b8e5756",
   "metadata": {},
   "source": [
    "# Sorted and lambdas"
   ]
  },
  {
   "cell_type": "code",
   "execution_count": 5,
   "id": "6464a13a-a1c4-4fe1-aa9c-628fd59a62c5",
   "metadata": {
    "tags": []
   },
   "outputs": [
    {
     "name": "stdout",
     "output_type": "stream",
     "text": [
      "['A', 'B', 'a', 'b']\n",
      "['a', 'A', 'b', 'B']\n"
     ]
    }
   ],
   "source": [
    "l = ['a', \"A\", 'b', \"B\"]\n",
    "sorted(l)\n",
    "print(sorted(l))\n",
    "print(sorted(l, key = lambda s: s.upper()))"
   ]
  },
  {
   "cell_type": "code",
   "execution_count": 6,
   "id": "5b7063af-4ee3-4940-8a83-b0efb569222f",
   "metadata": {
    "tags": []
   },
   "outputs": [
    {
     "name": "stdout",
     "output_type": "stream",
     "text": [
      "Help on built-in function random:\n",
      "\n",
      "random() method of random.Random instance\n",
      "    random() -> x in the interval [0, 1).\n",
      "\n"
     ]
    }
   ],
   "source": [
    "import random\n",
    "help(random.random)\n"
   ]
  },
  {
   "cell_type": "code",
   "execution_count": 12,
   "id": "0355b607-deb5-4dc2-afc9-0bfd0ca2d9f7",
   "metadata": {
    "tags": []
   },
   "outputs": [
    {
     "name": "stdout",
     "output_type": "stream",
     "text": [
      "[1, 2, 3, 4, 5, 6, 7, 8, 9]\n",
      "[8, 2, 1, 4, 5, 6, 3, 9, 7]\n"
     ]
    }
   ],
   "source": [
    "l = [1, 2, 3, 4, 5, 6, 7, 8, 9]\n",
    "print(l)\n",
    "print(sorted(l, key = lambda x: random.random()))"
   ]
  },
  {
   "cell_type": "code",
   "execution_count": null,
   "id": "1a80c998-b1bd-4886-b088-d55e5f5b4472",
   "metadata": {},
   "outputs": [],
   "source": []
  }
 ],
 "metadata": {
  "kernelspec": {
   "display_name": "Python 3 (ipykernel)",
   "language": "python",
   "name": "python3"
  },
  "language_info": {
   "codemirror_mode": {
    "name": "ipython",
    "version": 3
   },
   "file_extension": ".py",
   "mimetype": "text/x-python",
   "name": "python",
   "nbconvert_exporter": "python",
   "pygments_lexer": "ipython3",
   "version": "3.10.8"
  }
 },
 "nbformat": 4,
 "nbformat_minor": 5
}
