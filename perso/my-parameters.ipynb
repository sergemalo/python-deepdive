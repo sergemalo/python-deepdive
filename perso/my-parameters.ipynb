{
 "cells": [
  {
   "cell_type": "markdown",
   "id": "6806ead9-3df3-4166-8aa4-86d0331d3ed7",
   "metadata": {},
   "source": [
    "# FUNCTION PARAMETERS VS ARGUMENTS"
   ]
  },
  {
   "cell_type": "markdown",
   "id": "60caae80-44f0-4bdf-b4fb-7910f737fcfe",
   "metadata": {},
   "source": [
    "* Arguments is when we call\n",
    "* Parameters is when we are in the function local context"
   ]
  },
  {
   "cell_type": "code",
   "execution_count": 8,
   "id": "438cede2-971d-41dc-bf0e-a922b6080120",
   "metadata": {
    "tags": []
   },
   "outputs": [
    {
     "name": "stdout",
     "output_type": "stream",
     "text": [
      "10 100 3\n",
      "10 10 3\n",
      "2 100 23\n",
      "4 22 4\n"
     ]
    }
   ],
   "source": [
    "# Default value\n",
    "def funcA(a, b=100, c=3):\n",
    "    print (a, b, c)\n",
    "\n",
    "funcA(10)\n",
    "funcA(10, 10)\n",
    "funcA(a=2, c=23) # Names arguments\n",
    "funcA(a=4, c=4, b=22) # Legal!\n",
    "    "
   ]
  },
  {
   "cell_type": "markdown",
   "id": "56c59001-e614-41e6-bef4-0a34badc4355",
   "metadata": {},
   "source": [
    "# Unpacking\n",
    "Any iterable..."
   ]
  },
  {
   "cell_type": "code",
   "execution_count": 25,
   "id": "5ca409ed-b8a4-4b47-b5f7-1ff82caef202",
   "metadata": {
    "tags": []
   },
   "outputs": [
    {
     "name": "stdout",
     "output_type": "stream",
     "text": [
      "(1, 2) 2\n",
      "a --- 2 --- [3, 4]\n",
      "2 --- a --- [3, 4]\n"
     ]
    }
   ],
   "source": [
    "a = 1,2,\n",
    "print(a, len(a))\n",
    "a, b, c = 'a', 2, [3, 4] # Parallel assignment.\n",
    "print(a, \"---\", b, \"---\", c)\n",
    "b, a = a, b # Easy swap !!\n",
    "print(a, \"---\", b, \"---\", c)"
   ]
  },
  {
   "cell_type": "code",
   "execution_count": 41,
   "id": "ed2b7a48-e616-4bd8-8859-84854c9759e5",
   "metadata": {
    "tags": []
   },
   "outputs": [
    {
     "name": "stdout",
     "output_type": "stream",
     "text": [
      "<class 'dict'>\n",
      "1\n",
      "2\n",
      "11\n",
      "22\n",
      "(1, 11)\n",
      "(2, 22)\n"
     ]
    }
   ],
   "source": [
    "a = {1:11, 2:22}\n",
    "print(type(a))\n",
    "for i in a: print(i)\n",
    "for i in a.values(): print(i)\n",
    "for i in a.items(): print(i) # Return Tuples!"
   ]
  },
  {
   "cell_type": "markdown",
   "id": "88c1bdc2-1b17-4311-b8dc-596a092e0a40",
   "metadata": {},
   "source": [
    "## Extended unpacking"
   ]
  },
  {
   "cell_type": "markdown",
   "id": "d05b3139-7a40-4a33-ba5d-ca382d2c5ef9",
   "metadata": {},
   "source": [
    "#### * is for the \"rest\""
   ]
  },
  {
   "cell_type": "code",
   "execution_count": 48,
   "id": "1c3df215-7692-42ad-a224-91a77b897863",
   "metadata": {
    "tags": []
   },
   "outputs": [
    {
     "name": "stdout",
     "output_type": "stream",
     "text": [
      "1 --- [2, 3, 4, 5] --- 6\n"
     ]
    }
   ],
   "source": [
    "l = [1, 2, 3, 4, 5, 6]\n",
    "a, *b, c = l  ##### !!! b will ALWAYS be a list\n",
    "print(a, \"---\", b, \"---\", c)"
   ]
  },
  {
   "cell_type": "markdown",
   "id": "32a569bb-4ad0-41c6-858d-c9fdb0bb4619",
   "metadata": {},
   "source": [
    "#### ** operator"
   ]
  },
  {
   "cell_type": "code",
   "execution_count": 57,
   "id": "91c19dd3-8010-4629-962d-5adaea6e4b29",
   "metadata": {
    "tags": []
   },
   "outputs": [
    {
     "name": "stdout",
     "output_type": "stream",
     "text": [
      "{'s': 1, 'e': 5, 'r': 3, 'g': 4}\n"
     ]
    }
   ],
   "source": [
    "d1 = {'s':1, 'e':2}\n",
    "d2 = {'r':3, 'g':4, 'e':5}\n",
    "#l = [**d1, **d2] Impossible to unpack into a list!\n",
    "#print(l)\n",
    "d = {**d1, **d2}\n",
    "print(d)\n",
    "#t = (**d1, **d2) Impossible to unpack into a tuple!\n",
    "#print(t)\n",
    "#dd = d1.union(d2)\n",
    "#dd"
   ]
  },
  {
   "cell_type": "markdown",
   "id": "6d0c967b-d055-43e4-8f77-e9bf50d543e3",
   "metadata": {},
   "source": [
    "#### * operator on sets"
   ]
  },
  {
   "cell_type": "code",
   "execution_count": 56,
   "id": "be496a40-5e6e-4747-b5fd-e62746bb3d5a",
   "metadata": {
    "tags": []
   },
   "outputs": [
    {
     "name": "stdout",
     "output_type": "stream",
     "text": [
      "(1, 2, 3, 4, 3, 4, 5, 6)\n",
      "[1, 2, 3, 4, 3, 4, 5, 6]\n",
      "{1, 2, 3, 4, 5, 6}\n",
      "{1, 2, 3, 4, 5, 6}\n"
     ]
    }
   ],
   "source": [
    "s1 = {1, 2, 3, 4}\n",
    "s2 = {3, 4, 5, 6}\n",
    "ms1 = (*s1, *s2)\n",
    "print(ms1)\n",
    "ms2 = [*s1, *s2]\n",
    "print(ms2)\n",
    "ms3 = {*s1, *s2}\n",
    "print(ms3)\n",
    "ms4 = s1.union(s2)\n",
    "print(ms4)"
   ]
  }
 ],
 "metadata": {
  "kernelspec": {
   "display_name": "Python 3 (ipykernel)",
   "language": "python",
   "name": "python3"
  },
  "language_info": {
   "codemirror_mode": {
    "name": "ipython",
    "version": 3
   },
   "file_extension": ".py",
   "mimetype": "text/x-python",
   "name": "python",
   "nbconvert_exporter": "python",
   "pygments_lexer": "ipython3",
   "version": "3.10.8"
  }
 },
 "nbformat": 4,
 "nbformat_minor": 5
}
