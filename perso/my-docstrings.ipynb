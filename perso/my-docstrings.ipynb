{
 "cells": [
  {
   "cell_type": "code",
   "execution_count": 12,
   "id": "f63b26f3-7db9-4fe7-bd4a-c532d9a689ae",
   "metadata": {
    "tags": []
   },
   "outputs": [
    {
     "name": "stdout",
     "output_type": "stream",
     "text": [
      "ALLO\n",
      "<class 'int'>\n",
      "Help on function my_func in module __main__:\n",
      "\n",
      "my_func(a: str) -> str\n",
      "\n"
     ]
    }
   ],
   "source": [
    "def my_func(a: str) -> str:\n",
    "    \"My documentation...{}\"\n",
    "    print(\"ALLO\")\n",
    "    print(type(a))\n",
    "\n",
    "my_func(1) # Python does not use the argument type!! It is not enforced!!\n",
    "help(my_func)"
   ]
  },
  {
   "cell_type": "code",
   "execution_count": 13,
   "id": "05fdd9a3-da75-47c2-8c4f-beac3312a82d",
   "metadata": {
    "tags": []
   },
   "outputs": [
    {
     "name": "stdout",
     "output_type": "stream",
     "text": [
      "None\n",
      "{'a': <class 'str'>, 'return': <class 'str'>}\n"
     ]
    }
   ],
   "source": [
    "print(my_func.__doc__)\n",
    "print(my_func.__annotations__)\n"
   ]
  },
  {
   "cell_type": "code",
   "execution_count": null,
   "id": "f926bc93-3fa7-4940-8b15-671f2df1c594",
   "metadata": {},
   "outputs": [],
   "source": []
  }
 ],
 "metadata": {
  "kernelspec": {
   "display_name": "Python 3 (ipykernel)",
   "language": "python",
   "name": "python3"
  },
  "language_info": {
   "codemirror_mode": {
    "name": "ipython",
    "version": 3
   },
   "file_extension": ".py",
   "mimetype": "text/x-python",
   "name": "python",
   "nbconvert_exporter": "python",
   "pygments_lexer": "ipython3",
   "version": "3.10.8"
  }
 },
 "nbformat": 4,
 "nbformat_minor": 5
}
