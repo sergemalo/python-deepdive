{
 "cells": [
  {
   "cell_type": "markdown",
   "id": "8a46d5a2-bdc1-448e-a67d-a71dbacf0e40",
   "metadata": {},
   "source": [
    "# map function"
   ]
  },
  {
   "cell_type": "code",
   "execution_count": 17,
   "id": "ddce2731-256b-434b-bdc5-4bbf2e8dab0f",
   "metadata": {
    "tags": []
   },
   "outputs": [
    {
     "name": "stdout",
     "output_type": "stream",
     "text": [
      "[0, 1, 4, 9, 16]\n",
      "[<map object at 0x000002037A5264D0>] 1\n",
      "[0, 1, 4, 9, 16]\n"
     ]
    }
   ],
   "source": [
    "l = [0, 1, 2, 3, 4]\n",
    "def sq(x):\n",
    "    return x*x\n",
    "print(list(map(sq, l)))\n",
    "#print([map(sq, l)], 1)\n",
    "print(list(map(lambda x: x*x, l)))"
   ]
  },
  {
   "cell_type": "markdown",
   "id": "65e69912-486d-4268-8a9c-28a37296bd1a",
   "metadata": {},
   "source": [
    "# filter"
   ]
  },
  {
   "cell_type": "code",
   "execution_count": 8,
   "id": "44451867-756f-4b6e-abec-4fba46f785a0",
   "metadata": {
    "tags": []
   },
   "outputs": [
    {
     "name": "stdout",
     "output_type": "stream",
     "text": [
      "[1, 2, 3, 4]\n",
      "[1, 3]\n"
     ]
    }
   ],
   "source": [
    "print(list(filter(None, l)))\n",
    "print(list(filter(lambda x: x & 0x1, l)))"
   ]
  },
  {
   "cell_type": "markdown",
   "id": "e13a4bec-d047-448d-9792-efadbb3be58d",
   "metadata": {},
   "source": [
    "# zip"
   ]
  },
  {
   "cell_type": "code",
   "execution_count": 10,
   "id": "40fd8d42-1af7-48a4-989f-5b5da13cf083",
   "metadata": {
    "tags": []
   },
   "outputs": [
    {
     "name": "stdout",
     "output_type": "stream",
     "text": [
      "[(0, 10), (1, 11), (2, 12), (3, 13), (4, 14)]\n"
     ]
    }
   ],
   "source": [
    "l2 = [10, 11, 12, 13, 14]\n",
    "print(list(zip(l, l2)))"
   ]
  },
  {
   "cell_type": "markdown",
   "id": "95d69f33-f6a9-409e-b33f-94c4ef1bea46",
   "metadata": {},
   "source": [
    "# List comprehension\n"
   ]
  },
  {
   "cell_type": "code",
   "execution_count": 13,
   "id": "3a6c9c73-58b9-4d15-a88c-b14e2e376fda",
   "metadata": {
    "tags": []
   },
   "outputs": [
    {
     "data": {
      "text/plain": [
       "[2, 4]"
      ]
     },
     "execution_count": 13,
     "metadata": {},
     "output_type": "execute_result"
    }
   ],
   "source": [
    "# [<expression> for <var> in <iterable> if <expression2>]\n",
    "l = [1, 2, 3, 4]\n",
    "[x for x in l if x %2 == 0]"
   ]
  },
  {
   "cell_type": "code",
   "execution_count": null,
   "id": "0b6c8ff7-44de-4b14-9453-f78cfcccde1e",
   "metadata": {},
   "outputs": [],
   "source": []
  }
 ],
 "metadata": {
  "kernelspec": {
   "display_name": "Python 3 (ipykernel)",
   "language": "python",
   "name": "python3"
  },
  "language_info": {
   "codemirror_mode": {
    "name": "ipython",
    "version": 3
   },
   "file_extension": ".py",
   "mimetype": "text/x-python",
   "name": "python",
   "nbconvert_exporter": "python",
   "pygments_lexer": "ipython3",
   "version": "3.10.8"
  }
 },
 "nbformat": 4,
 "nbformat_minor": 5
}
