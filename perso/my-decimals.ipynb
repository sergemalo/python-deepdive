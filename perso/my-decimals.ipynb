{
 "cells": [
  {
   "cell_type": "markdown",
   "id": "979b421f-5fb6-4a5f-af11-f769465019ad",
   "metadata": {},
   "source": [
    "#### DECIMALS !"
   ]
  },
  {
   "cell_type": "code",
   "execution_count": 6,
   "id": "e8b04f0d-095b-4c8a-b8a5-828f6f9a841b",
   "metadata": {
    "tags": []
   },
   "outputs": [
    {
     "name": "stdout",
     "output_type": "stream",
     "text": [
      "<class 'decimal.Decimal'>\n",
      "10\n",
      "<class 'decimal.Decimal'>\n",
      "10.1\n",
      "<class 'decimal.Decimal'>\n",
      "10.0999999999999996447286321199499070644378662109375\n"
     ]
    }
   ],
   "source": [
    "from decimal import Decimal\n",
    "a = Decimal(10)\n",
    "print (type(a))\n",
    "print (a)\n",
    "a = Decimal('10.1')\n",
    "print (type(a))\n",
    "print (a)\n",
    "a = Decimal(10.1) ## NO!!!\n",
    "print (type(a))\n",
    "print (a)\n"
   ]
  },
  {
   "cell_type": "markdown",
   "id": "72f8ea70-07ec-4a1a-8122-80c6ed0a2177",
   "metadata": {},
   "source": [
    "#### DECIMAL Context"
   ]
  },
  {
   "cell_type": "code",
   "execution_count": 10,
   "id": "7b804e68-a471-404b-95ba-1caa7bd0765f",
   "metadata": {
    "tags": []
   },
   "outputs": [
    {
     "name": "stdout",
     "output_type": "stream",
     "text": [
      "28\n"
     ]
    }
   ],
   "source": [
    "import decimal\n",
    "print (decimal.getcontext().prec)"
   ]
  },
  {
   "cell_type": "code",
   "execution_count": null,
   "id": "378007e2-09a3-4c37-9299-d39b4bb60184",
   "metadata": {},
   "outputs": [],
   "source": []
  }
 ],
 "metadata": {
  "kernelspec": {
   "display_name": "Python 3 (ipykernel)",
   "language": "python",
   "name": "python3"
  },
  "language_info": {
   "codemirror_mode": {
    "name": "ipython",
    "version": 3
   },
   "file_extension": ".py",
   "mimetype": "text/x-python",
   "name": "python",
   "nbconvert_exporter": "python",
   "pygments_lexer": "ipython3",
   "version": "3.11.2"
  }
 },
 "nbformat": 4,
 "nbformat_minor": 5
}
