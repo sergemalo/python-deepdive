{
 "cells": [
  {
   "cell_type": "markdown",
   "id": "979b421f-5fb6-4a5f-af11-f769465019ad",
   "metadata": {},
   "source": [
    "#### DECIMALS !\n",
    "\n",
    "DRAWBACKS:\n",
    "\n",
    "1. Constructor from STRING or TUPLES\n",
    "2. Not all mathematical operations\n",
    "3. More memory\n",
    "4. Much slower than float"
   ]
  },
  {
   "cell_type": "code",
   "execution_count": 24,
   "id": "e8b04f0d-095b-4c8a-b8a5-828f6f9a841b",
   "metadata": {
    "tags": []
   },
   "outputs": [
    {
     "name": "stdout",
     "output_type": "stream",
     "text": [
      "104\n",
      "<class 'decimal.Decimal'>\n",
      "10\n",
      "<class 'decimal.Decimal'>\n",
      "10.1\n",
      "<class 'decimal.Decimal'>\n",
      "10.0999999999999996447286321199499070644378662109375\n"
     ]
    }
   ],
   "source": [
    "from decimal import Decimal\n",
    "import sys\n",
    "a = Decimal(10)\n",
    "print(sys.getsizeof(a))\n",
    "print (type(a))\n",
    "print (a)\n",
    "a = Decimal('10.1')\n",
    "print (type(a))\n",
    "print (a)\n",
    "a = Decimal(10.1) ## NO!!!\n",
    "print (type(a))\n",
    "print (a)\n"
   ]
  },
  {
   "cell_type": "markdown",
   "id": "72f8ea70-07ec-4a1a-8122-80c6ed0a2177",
   "metadata": {},
   "source": [
    "#### DECIMAL Context"
   ]
  },
  {
   "cell_type": "code",
   "execution_count": 1,
   "id": "7b804e68-a471-404b-95ba-1caa7bd0765f",
   "metadata": {
    "tags": []
   },
   "outputs": [
    {
     "name": "stdout",
     "output_type": "stream",
     "text": [
      "Context(prec=28, rounding=ROUND_HALF_EVEN, Emin=-999999, Emax=999999, capitals=1, clamp=0, flags=[], traps=[InvalidOperation, DivisionByZero, Overflow])\n"
     ]
    }
   ],
   "source": [
    "import decimal\n",
    "print (decimal.getcontext())"
   ]
  },
  {
   "cell_type": "markdown",
   "id": "e3bd2ac1-ae81-4780-bdd8-55800a4ab11f",
   "metadata": {},
   "source": [
    "#### Precision (prec) is applied to OPERATIONS - not to constructors"
   ]
  },
  {
   "cell_type": "code",
   "execution_count": 7,
   "id": "a9cf5aa5-9b2a-4a5a-b2e1-fe2896990c6e",
   "metadata": {
    "tags": []
   },
   "outputs": [
    {
     "name": "stdout",
     "output_type": "stream",
     "text": [
      "10.1234\n",
      "20.25\n",
      "20.25\n"
     ]
    }
   ],
   "source": [
    "from decimal import Decimal\n",
    "a = Decimal('10.1234')\n",
    "with decimal.localcontext() as ctx:\n",
    "    ctx.prec = 4\n",
    "    print (a)\n",
    "    a = a + a\n",
    "    print(a)\n",
    "print(a)\n"
   ]
  },
  {
   "cell_type": "markdown",
   "id": "97f9abe5-e9f8-435c-b523-7692c5bc1447",
   "metadata": {},
   "source": [
    "#### divmod\n",
    "div (//) and mod (%) will give different results for integer and Decimal\n",
    "But\n",
    "`n = d * (n // d) + (n % d)` is always TRUE"
   ]
  },
  {
   "cell_type": "code",
   "execution_count": 8,
   "id": "62e7a62f-304e-4e23-be6d-cf628c362ab8",
   "metadata": {
    "tags": []
   },
   "outputs": [
    {
     "name": "stdout",
     "output_type": "stream",
     "text": [
      "(3, 1)\n"
     ]
    }
   ],
   "source": [
    "x = 10\n",
    "y = 3\n",
    "print(divmod(x, y))\n"
   ]
  },
  {
   "cell_type": "code",
   "execution_count": 9,
   "id": "b6364682-b6eb-44e6-83cb-9a16018f88fc",
   "metadata": {
    "tags": []
   },
   "outputs": [
    {
     "name": "stdout",
     "output_type": "stream",
     "text": [
      "(Decimal('3'), Decimal('1'))\n"
     ]
    }
   ],
   "source": [
    "x = Decimal(10)\n",
    "y = Decimal(3)\n",
    "print(divmod(x, y))"
   ]
  },
  {
   "cell_type": "code",
   "execution_count": 23,
   "id": "f1221fd6-ff36-4711-9167-b7eddd72bfa5",
   "metadata": {
    "tags": []
   },
   "outputs": [
    {
     "name": "stdout",
     "output_type": "stream",
     "text": [
      "3.1622776601683795\n",
      "<class 'float'>\n",
      "3.162277660168379331998893544\n",
      "<class 'decimal.Decimal'>\n"
     ]
    }
   ],
   "source": [
    "import math\n",
    "x = 10.0\n",
    "y = Decimal('10.0')\n",
    "z = math.sqrt(10)\n",
    "print(z)\n",
    "print(type(z))\n",
    "z = y.sqrt()\n",
    "print(z)\n",
    "print(type(z))\n"
   ]
  },
  {
   "cell_type": "code",
   "execution_count": null,
   "id": "95637ca0-bbbe-4db4-a98c-e0027a27b79d",
   "metadata": {},
   "outputs": [],
   "source": []
  }
 ],
 "metadata": {
  "kernelspec": {
   "display_name": "Python 3 (ipykernel)",
   "language": "python",
   "name": "python3"
  },
  "language_info": {
   "codemirror_mode": {
    "name": "ipython",
    "version": 3
   },
   "file_extension": ".py",
   "mimetype": "text/x-python",
   "name": "python",
   "nbconvert_exporter": "python",
   "pygments_lexer": "ipython3",
   "version": "3.11.2"
  }
 },
 "nbformat": 4,
 "nbformat_minor": 5
}
