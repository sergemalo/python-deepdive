{
 "cells": [
  {
   "cell_type": "markdown",
   "id": "a76374ee-3b67-43b5-94a5-b62d84be241b",
   "metadata": {},
   "source": [
    "# Reducing functions\n",
    "Ex: Finding the max of a list, the average of a list..."
   ]
  },
  {
   "cell_type": "code",
   "execution_count": 12,
   "id": "d9289cf9-d3e0-4d6d-bee0-6af028fecbdb",
   "metadata": {
    "tags": []
   },
   "outputs": [
    {
     "data": {
      "text/plain": [
       "556"
      ]
     },
     "execution_count": 12,
     "metadata": {},
     "output_type": "execute_result"
    }
   ],
   "source": [
    "l = [1, 4, 11, 34, 556, 2, 1]\n",
    "max_val = lambda x, y: x if x > y else y\n",
    "\n",
    "def max_seq(seq):\n",
    "    m = seq[0]\n",
    "    for s in seq[1:]:\n",
    "          m = max_val(m, s)\n",
    "    return m\n",
    "\n",
    "max_seq(l)"
   ]
  },
  {
   "cell_type": "markdown",
   "id": "945fae6d-dfab-4145-9d7a-a02ea47de2c1",
   "metadata": {},
   "source": [
    "# functools module !!!\n",
    "reduce function - works on any iterable"
   ]
  },
  {
   "cell_type": "code",
   "execution_count": 2,
   "id": "897f6acb-2dc0-49d1-9b89-9f0aeca142c0",
   "metadata": {
    "tags": []
   },
   "outputs": [
    {
     "data": {
      "text/plain": [
       "556"
      ]
     },
     "execution_count": 2,
     "metadata": {},
     "output_type": "execute_result"
    }
   ],
   "source": [
    "from functools import reduce\n",
    "reduce(lambda x, y: x if x > y else y, l)"
   ]
  },
  {
   "cell_type": "code",
   "execution_count": 4,
   "id": "497f5042-62a1-4238-bf7b-67e2fd8c46b2",
   "metadata": {
    "tags": []
   },
   "outputs": [
    {
     "data": {
      "text/plain": [
       "45"
      ]
     },
     "execution_count": 4,
     "metadata": {},
     "output_type": "execute_result"
    }
   ],
   "source": [
    "d = {1: \"un\", 45: \"deux\", 3:\"trois\"}\n",
    "reduce(lambda x, y: x if x > y else y, d)"
   ]
  },
  {
   "cell_type": "code",
   "execution_count": 14,
   "id": "b49e52eb-a2ba-4300-aa5a-2005803d8d3a",
   "metadata": {
    "tags": []
   },
   "outputs": [
    {
     "name": "stdout",
     "output_type": "stream",
     "text": [
      "True True\n"
     ]
    }
   ],
   "source": [
    "print(all(l), all(d))"
   ]
  },
  {
   "cell_type": "code",
   "execution_count": 15,
   "id": "188fb4d0-4b0c-4d51-9a5b-9f8c758c0e6c",
   "metadata": {
    "tags": []
   },
   "outputs": [
    {
     "data": {
      "text/plain": [
       "362880"
      ]
     },
     "execution_count": 15,
     "metadata": {},
     "output_type": "execute_result"
    }
   ],
   "source": [
    "reduce(lambda x, y: x*y, range(1, 10))"
   ]
  },
  {
   "cell_type": "code",
   "execution_count": 23,
   "id": "a91df8cd-b008-4c58-a5b3-ade9ffdca962",
   "metadata": {
    "tags": []
   },
   "outputs": [
    {
     "data": {
      "text/plain": [
       "135"
      ]
     },
     "execution_count": 23,
     "metadata": {},
     "output_type": "execute_result"
    }
   ],
   "source": [
    "reduce(lambda x, y: x*y, d)"
   ]
  },
  {
   "cell_type": "markdown",
   "id": "f3d63f74-bd97-4e29-ad1b-d923967cd80f",
   "metadata": {},
   "source": [
    "### Built-in reduced functions:\n",
    "min, max, sum, any, all (NOT mul)"
   ]
  },
  {
   "cell_type": "markdown",
   "id": "5e5a2fcf-a320-4f1a-a5fb-847a6b014a8c",
   "metadata": {},
   "source": [
    "# Partial functions"
   ]
  },
  {
   "cell_type": "code",
   "execution_count": 43,
   "id": "c24ede18-e382-48ef-b59c-3adfea5a214e",
   "metadata": {
    "tags": []
   },
   "outputs": [
    {
     "name": "stdout",
     "output_type": "stream",
     "text": [
      "10 1 2\n",
      "1 10 2\n"
     ]
    }
   ],
   "source": [
    "from functools import partial\n",
    "def my_func(a, b, c):\n",
    "    print(a, b, c)\n",
    "\n",
    "f1 = partial(my_func, 10)\n",
    "f2 = partial(my_func, b=10)\n",
    "#f3 = partial(my_func, c=10)\n",
    "f1(1, 2)\n",
    "f2(a=1, c=2)\n",
    "#f3(1, 2)"
   ]
  },
  {
   "cell_type": "code",
   "execution_count": 48,
   "id": "d396fe11-05a4-441b-9444-62f7b1d21bf1",
   "metadata": {
    "tags": []
   },
   "outputs": [
    {
     "name": "stdout",
     "output_type": "stream",
     "text": [
      "[(0, 0), (1, 1), (2, 2), (3, 3), (1, 2), (1, 3), (1, 1.5), (3, 1)]\n"
     ]
    },
    {
     "data": {
      "text/plain": [
       "[(0, 0), (1, 1), (1, 1.5), (1, 2), (1, 3), (2, 2), (3, 1), (3, 3)]"
      ]
     },
     "execution_count": 48,
     "metadata": {},
     "output_type": "execute_result"
    }
   ],
   "source": [
    "l = [(0, 0), (1, 1), (2, 2), (3, 3), (1, 2), (1, 3), (1, 1.5), (3,1)]\n",
    "print(l)\n",
    "sorted(l)\n"
   ]
  },
  {
   "cell_type": "code",
   "execution_count": null,
   "id": "251b58a0-44cb-4c84-b931-a7738e015898",
   "metadata": {},
   "outputs": [],
   "source": []
  }
 ],
 "metadata": {
  "kernelspec": {
   "display_name": "Python 3 (ipykernel)",
   "language": "python",
   "name": "python3"
  },
  "language_info": {
   "codemirror_mode": {
    "name": "ipython",
    "version": 3
   },
   "file_extension": ".py",
   "mimetype": "text/x-python",
   "name": "python",
   "nbconvert_exporter": "python",
   "pygments_lexer": "ipython3",
   "version": "3.10.8"
  }
 },
 "nbformat": 4,
 "nbformat_minor": 5
}
