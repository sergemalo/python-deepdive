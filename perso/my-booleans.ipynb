{
 "cells": [
  {
   "cell_type": "markdown",
   "id": "8b8630d4-2415-4418-88ce-7d6f57b49fc8",
   "metadata": {},
   "source": [
    "# BOOLEANS"
   ]
  },
  {
   "cell_type": "markdown",
   "id": "419602a5-ce59-4ada-8a7a-b54d427b7b25",
   "metadata": {},
   "source": [
    "They are subclass of int"
   ]
  },
  {
   "cell_type": "code",
   "execution_count": 8,
   "id": "89d89d83-031b-44e7-bc6d-1a05eff96949",
   "metadata": {
    "tags": []
   },
   "outputs": [
    {
     "name": "stdout",
     "output_type": "stream",
     "text": [
      "True\n",
      "<class 'bool'>\n"
     ]
    },
    {
     "data": {
      "text/plain": [
       "True"
      ]
     },
     "execution_count": 8,
     "metadata": {},
     "output_type": "execute_result"
    }
   ],
   "source": [
    "a = bool(True)\n",
    "print(a)\n",
    "print(type(a))\n",
    "issubclass(bool, int)"
   ]
  },
  {
   "cell_type": "markdown",
   "id": "29fec8b8-af21-4094-855c-c0a7fba24c9c",
   "metadata": {},
   "source": [
    "`True` and `False` are Singletons"
   ]
  },
  {
   "cell_type": "code",
   "execution_count": 21,
   "id": "5e141001-ec17-4657-bf06-18389367410c",
   "metadata": {
    "tags": []
   },
   "outputs": [
    {
     "data": {
      "text/plain": [
       "True"
      ]
     },
     "execution_count": 21,
     "metadata": {},
     "output_type": "execute_result"
    }
   ],
   "source": [
    "#When boolean equation is evaluated, the Singleton is returned\n",
    "(1 == 1) is True"
   ]
  },
  {
   "cell_type": "markdown",
   "id": "859bddd7-0d75-478c-ba92-935fed09c5e9",
   "metadata": {},
   "source": [
    "Every class in Python implements is *\"truthiness\"* or truth value\n",
    "Ex: for integer, a value is 0 is False and all other values are True"
   ]
  },
  {
   "cell_type": "code",
   "execution_count": 10,
   "id": "a3faa0f2-f997-4c5a-9e43-03977d234b6d",
   "metadata": {
    "tags": []
   },
   "outputs": [
    {
     "data": {
      "text/plain": [
       "('0x7ff9b585ab68', '0x7ff9b585ab88')"
      ]
     },
     "execution_count": 10,
     "metadata": {},
     "output_type": "execute_result"
    }
   ],
   "source": [
    "hex(id(True)), hex(id(False))"
   ]
  },
  {
   "cell_type": "code",
   "execution_count": 20,
   "id": "639ec40c-ae3d-4746-bd81-7fa3bd137eaa",
   "metadata": {
    "tags": []
   },
   "outputs": [
    {
     "name": "stdout",
     "output_type": "stream",
     "text": [
      "28\n",
      "28\n"
     ]
    }
   ],
   "source": [
    "import sys\n",
    "print(sys.getsizeof(True))\n",
    "print(sys.getsizeof(False))"
   ]
  },
  {
   "cell_type": "code",
   "execution_count": 41,
   "id": "10723cdd-ca74-480d-8650-4b9bbb60c30c",
   "metadata": {
    "tags": []
   },
   "outputs": [
    {
     "name": "stdout",
     "output_type": "stream",
     "text": [
      "1\n",
      "True\n"
     ]
    }
   ],
   "source": [
    "print(int(bool(100)))\n",
    "print((100).__bool__())"
   ]
  },
  {
   "cell_type": "markdown",
   "id": "b984924f-2048-4d78-9168-c48df6379053",
   "metadata": {},
   "source": [
    "Method instance of `__bool__`"
   ]
  },
  {
   "cell_type": "code",
   "execution_count": 33,
   "id": "9ae70384-aaaf-490f-91cb-af507ea1387d",
   "metadata": {
    "tags": []
   },
   "outputs": [
    {
     "name": "stdout",
     "output_type": "stream",
     "text": [
      "True\n",
      "True\n"
     ]
    }
   ],
   "source": [
    "class toto:\n",
    "    def __init__(self, val):\n",
    "        self.my_val = int(val)\n",
    "\n",
    "a = toto(0)\n",
    "print(bool(a))\n",
    "b = toto(1)\n",
    "print(bool(b))"
   ]
  },
  {
   "cell_type": "code",
   "execution_count": 38,
   "id": "01bf3edc-b02b-49ce-8d94-891001abeeba",
   "metadata": {
    "tags": []
   },
   "outputs": [
    {
     "name": "stdout",
     "output_type": "stream",
     "text": [
      "False\n",
      "True\n"
     ]
    }
   ],
   "source": [
    "class toto:\n",
    "    def __init__(self, val):\n",
    "        self.my_val = int(val)\n",
    "    def __bool__(self):\n",
    "        return bool(self.my_val)\n",
    "        #if self.my_val == 0:\n",
    "        #    return False\n",
    "        #return True\n",
    "\n",
    "a = toto(0)\n",
    "print(bool(a))\n",
    "b = toto(1)\n",
    "print(bool(b))"
   ]
  },
  {
   "cell_type": "code",
   "execution_count": 37,
   "id": "a31f4e8b-b4ba-4b46-a4c7-bff0bc77b2be",
   "metadata": {
    "tags": []
   },
   "outputs": [
    {
     "name": "stdout",
     "output_type": "stream",
     "text": [
      "()\n",
      "False\n"
     ]
    }
   ],
   "source": [
    "my_list = ()\n",
    "print(my_list)\n",
    "print(bool(my_list))"
   ]
  },
  {
   "cell_type": "markdown",
   "id": "62ec1286-2cfb-4a00-85c8-b4027b4c2d15",
   "metadata": {},
   "source": [
    "## OPERATORS"
   ]
  },
  {
   "cell_type": "markdown",
   "id": "798a16a1-286a-466f-bf51-681ad29839bf",
   "metadata": {},
   "source": [
    "`not`, `and`, `or`"
   ]
  },
  {
   "cell_type": "markdown",
   "id": "9ca48573-54db-4630-8d8c-8b85503edbd0",
   "metadata": {
    "tags": []
   },
   "source": [
    "Commutativity, Distributivity, Associativity"
   ]
  },
  {
   "cell_type": "markdown",
   "id": "e86fa1d8-b208-4088-91ee-68e0245e053a",
   "metadata": {
    "tags": []
   },
   "source": [
    "### Precedence\n",
    "1. ()\n",
    "2. <> <= >= == != in is\n",
    "3. not\n",
    "4. and\n",
    "5. or"
   ]
  },
  {
   "cell_type": "code",
   "execution_count": 45,
   "id": "52c067a7-11e5-41ec-929f-0b916a177359",
   "metadata": {
    "tags": []
   },
   "outputs": [
    {
     "name": "stdout",
     "output_type": "stream",
     "text": [
      "True\n"
     ]
    }
   ],
   "source": [
    "print(True or True and False)"
   ]
  },
  {
   "cell_type": "code",
   "execution_count": 49,
   "id": "9a369e43-6537-4acf-95be-568e0d1a8d41",
   "metadata": {
    "tags": []
   },
   "outputs": [
    {
     "name": "stdout",
     "output_type": "stream",
     "text": [
      "False\n"
     ]
    }
   ],
   "source": [
    "import operator\n",
    "#help(operator.xor)\n",
    "print(operator.xor(True, True))"
   ]
  },
  {
   "cell_type": "markdown",
   "id": "eb93fed9-3c3e-4f2f-80ee-e400c806c2ba",
   "metadata": {},
   "source": [
    "### Short-circuiting"
   ]
  },
  {
   "cell_type": "code",
   "execution_count": 51,
   "id": "59457dab-55a1-4b63-a842-b8ff5b31f062",
   "metadata": {
    "tags": []
   },
   "outputs": [
    {
     "name": "stdout",
     "output_type": "stream",
     "text": [
      "S\n",
      "?\n"
     ]
    }
   ],
   "source": [
    "name = 'Serge'\n",
    "if name and name[0]:\n",
    "    print(\"S\")\n",
    "else:\n",
    "    print(\"?\")\n",
    "name = ''\n",
    "if name and name[0]:\n",
    "    print(\"S\")\n",
    "else:\n",
    "    print(\"?\")\n"
   ]
  },
  {
   "cell_type": "markdown",
   "id": "2a06efcc-1b00-437d-9446-cb5505bb86e9",
   "metadata": {},
   "source": [
    "## Boolean operations"
   ]
  },
  {
   "cell_type": "markdown",
   "id": "2e726090-9f10-4f67-90a2-2d8d2f5373bf",
   "metadata": {
    "tags": []
   },
   "source": [
    "OR AND - Will not return a boolean when performed on non-boolean objects\n",
    "\n",
    "OR is excellent for default values:"
   ]
  },
  {
   "cell_type": "code",
   "execution_count": 54,
   "id": "859a8d44-af5f-4244-ba30-4c95595de233",
   "metadata": {
    "tags": []
   },
   "outputs": [
    {
     "name": "stdout",
     "output_type": "stream",
     "text": [
      "aaa\n",
      "N/A\n"
     ]
    }
   ],
   "source": [
    "a = 'aaa'\n",
    "b = ''\n",
    "c = a or 'N/A'\n",
    "d = b or 'N/A'\n",
    "print(c)\n",
    "print(d)\n"
   ]
  },
  {
   "cell_type": "code",
   "execution_count": 55,
   "id": "159a23db-4e34-42ac-8663-8bf7dc0e8d78",
   "metadata": {
    "tags": []
   },
   "outputs": [
    {
     "name": "stdout",
     "output_type": "stream",
     "text": [
      "10.0\n",
      "0\n"
     ]
    }
   ],
   "source": [
    "a = 2\n",
    "b = 0\n",
    "total = 20\n",
    "c = a and total/a\n",
    "d = b and total/b\n",
    "print(c)\n",
    "print(d)"
   ]
  },
  {
   "cell_type": "markdown",
   "id": "63690a79-99af-4bdf-adcf-3dbad5b88e47",
   "metadata": {},
   "source": [
    "not will return the \"not\" of the truth value of the object (boolean)"
   ]
  },
  {
   "cell_type": "code",
   "execution_count": 56,
   "id": "90265f1c-0b71-4c77-a813-a08b76987a6b",
   "metadata": {
    "tags": []
   },
   "outputs": [
    {
     "name": "stdout",
     "output_type": "stream",
     "text": [
      "False\n",
      "True\n"
     ]
    }
   ],
   "source": [
    "print (not 'a')\n",
    "print (not '')\n"
   ]
  },
  {
   "cell_type": "markdown",
   "id": "dde1eace-cd9b-4f96-8f0a-2fcc60838491",
   "metadata": {},
   "source": [
    "## Comparison operators"
   ]
  },
  {
   "cell_type": "markdown",
   "id": "962bea0f-1bc0-4c09-96d0-241ff5516b4a",
   "metadata": {},
   "source": [
    "chained operators: add \"add\" between them"
   ]
  },
  {
   "cell_type": "code",
   "execution_count": 57,
   "id": "3a3b2efa-b39a-4167-959a-ca04575abd06",
   "metadata": {
    "tags": []
   },
   "outputs": [
    {
     "data": {
      "text/plain": [
       "True"
      ]
     },
     "execution_count": 57,
     "metadata": {},
     "output_type": "execute_result"
    }
   ],
   "source": [
    "1 < 2 < 3"
   ]
  },
  {
   "cell_type": "code",
   "execution_count": null,
   "id": "8fcbd21f-ce47-412a-a185-935a687c3311",
   "metadata": {},
   "outputs": [],
   "source": []
  }
 ],
 "metadata": {
  "kernelspec": {
   "display_name": "Python 3 (ipykernel)",
   "language": "python",
   "name": "python3"
  },
  "language_info": {
   "codemirror_mode": {
    "name": "ipython",
    "version": 3
   },
   "file_extension": ".py",
   "mimetype": "text/x-python",
   "name": "python",
   "nbconvert_exporter": "python",
   "pygments_lexer": "ipython3",
   "version": "3.11.2"
  }
 },
 "nbformat": 4,
 "nbformat_minor": 5
}
