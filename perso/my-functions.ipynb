{
 "cells": [
  {
   "cell_type": "markdown",
   "id": "3fe2e290-63ab-468f-838a-b287c57773ce",
   "metadata": {},
   "source": [
    "# Functions Introspection"
   ]
  },
  {
   "cell_type": "code",
   "execution_count": 19,
   "id": "cb848f18-35ae-4c35-b455-ac632ad0166b",
   "metadata": {
    "tags": []
   },
   "outputs": [
    {
     "data": {
      "text/plain": [
       "['__annotations__',\n",
       " '__builtins__',\n",
       " '__call__',\n",
       " '__class__',\n",
       " '__closure__',\n",
       " '__code__',\n",
       " '__defaults__',\n",
       " '__delattr__',\n",
       " '__dict__',\n",
       " '__dir__',\n",
       " '__doc__',\n",
       " '__eq__',\n",
       " '__format__',\n",
       " '__ge__',\n",
       " '__get__',\n",
       " '__getattribute__',\n",
       " '__globals__',\n",
       " '__gt__',\n",
       " '__hash__',\n",
       " '__init__',\n",
       " '__init_subclass__',\n",
       " '__kwdefaults__',\n",
       " '__le__',\n",
       " '__lt__',\n",
       " '__module__',\n",
       " '__name__',\n",
       " '__ne__',\n",
       " '__new__',\n",
       " '__qualname__',\n",
       " '__reduce__',\n",
       " '__reduce_ex__',\n",
       " '__repr__',\n",
       " '__setattr__',\n",
       " '__sizeof__',\n",
       " '__str__',\n",
       " '__subclasshook__']"
      ]
     },
     "execution_count": 19,
     "metadata": {},
     "output_type": "execute_result"
    }
   ],
   "source": [
    "import inspect\n",
    "# BLA BLA 1\n",
    "# BLA BLA 2\n",
    "def ff(a: str):\n",
    "    print(a)\n",
    "dir(ff)"
   ]
  },
  {
   "cell_type": "code",
   "execution_count": 12,
   "id": "f24cb8b3-8e52-4f5e-9724-e5d66ee58bac",
   "metadata": {
    "tags": []
   },
   "outputs": [
    {
     "data": {
      "text/plain": [
       "('a',)"
      ]
     },
     "execution_count": 12,
     "metadata": {},
     "output_type": "execute_result"
    }
   ],
   "source": [
    "ff.__code__.co_varnames"
   ]
  },
  {
   "cell_type": "code",
   "execution_count": 16,
   "id": "63a37a33-a8d5-4e51-8554-e0fc483edb5c",
   "metadata": {
    "tags": []
   },
   "outputs": [
    {
     "name": "stdout",
     "output_type": "stream",
     "text": [
      "False\n",
      "True\n",
      "True\n"
     ]
    }
   ],
   "source": [
    "print(inspect.ismethod(ff))\n",
    "print(inspect.isfunction(ff))\n",
    "print(inspect.isroutine(ff)) # Method OR Function"
   ]
  },
  {
   "cell_type": "code",
   "execution_count": 18,
   "id": "e4892013-4db6-479e-97b0-e26a1dc7abf8",
   "metadata": {
    "tags": []
   },
   "outputs": [
    {
     "data": {
      "text/plain": [
       "<module 'inspect' from 'C:\\\\Users\\\\serge\\\\AppData\\\\Local\\\\Programs\\\\Python\\\\Python310\\\\lib\\\\inspect.py'>"
      ]
     },
     "execution_count": 18,
     "metadata": {},
     "output_type": "execute_result"
    }
   ],
   "source": [
    "inspect.getmodule(inspect.ismethod)"
   ]
  },
  {
   "cell_type": "code",
   "execution_count": 20,
   "id": "9b234700-0c6a-4858-a7ee-6661c2c06bca",
   "metadata": {
    "tags": []
   },
   "outputs": [
    {
     "data": {
      "text/plain": [
       "'# BLA BLA 1\\n# BLA BLA 2\\n'"
      ]
     },
     "execution_count": 20,
     "metadata": {},
     "output_type": "execute_result"
    }
   ],
   "source": [
    "inspect.getcomments(ff)"
   ]
  },
  {
   "cell_type": "code",
   "execution_count": 23,
   "id": "7aeb27ac-1a4e-4733-8e0e-c26809fec08e",
   "metadata": {
    "tags": []
   },
   "outputs": [
    {
     "data": {
      "text/plain": [
       "odict_values([<Parameter \"a: str\">])"
      ]
     },
     "execution_count": 23,
     "metadata": {},
     "output_type": "execute_result"
    }
   ],
   "source": [
    "inspect.signature(ff).parameters.values()"
   ]
  },
  {
   "cell_type": "markdown",
   "id": "ef57c544-f2eb-4de7-af30-95b6d34a1338",
   "metadata": {},
   "source": [
    "# Callables"
   ]
  },
  {
   "cell_type": "code",
   "execution_count": 27,
   "id": "8285a426-f194-4cb3-96e7-6781c69d944a",
   "metadata": {
    "tags": []
   },
   "outputs": [
    {
     "name": "stdout",
     "output_type": "stream",
     "text": [
      "True\n",
      "False\n",
      "True\n",
      "False\n"
     ]
    }
   ],
   "source": [
    "def toto():\n",
    "    return None\n",
    "print(callable(toto))\n",
    "s = \"ss\"\n",
    "print(callable(s))\n",
    "print(callable(s.upper))\n",
    "print(callable(s.upper()))\n",
    "               "
   ]
  },
  {
   "cell_type": "markdown",
   "id": "9b5a64ed-40b6-4b23-a755-7406c1ef4f93",
   "metadata": {},
   "source": [
    "A class is callable when we construct it:\n",
    "1. __new__ is first called\n",
    "2. __init__(self) is then called, with the newly object constructed in self\n",
    "3. a Reference to the object is returned"
   ]
  },
  {
   "cell_type": "markdown",
   "id": "07a74907-5b82-4d1a-8bbf-b2e97649bdcd",
   "metadata": {},
   "source": [
    "Instances of classes are not callable, unless we defined the __call__ method"
   ]
  }
 ],
 "metadata": {
  "kernelspec": {
   "display_name": "Python 3 (ipykernel)",
   "language": "python",
   "name": "python3"
  },
  "language_info": {
   "codemirror_mode": {
    "name": "ipython",
    "version": 3
   },
   "file_extension": ".py",
   "mimetype": "text/x-python",
   "name": "python",
   "nbconvert_exporter": "python",
   "pygments_lexer": "ipython3",
   "version": "3.10.8"
  }
 },
 "nbformat": 4,
 "nbformat_minor": 5
}
