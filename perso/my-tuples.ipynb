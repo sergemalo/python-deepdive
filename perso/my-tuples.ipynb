{
 "cells": [
  {
   "cell_type": "markdown",
   "id": "995b84ac-0849-4752-b022-a600b1be99d4",
   "metadata": {},
   "source": [
    "# Tuples !!!\n",
    "* Immutable\n",
    "* Fixed-length\n",
    "* Fixed-position"
   ]
  },
  {
   "cell_type": "code",
   "execution_count": 4,
   "id": "50f24120-0a5f-4446-b265-2d6c98addd28",
   "metadata": {
    "tags": []
   },
   "outputs": [
    {
     "name": "stdout",
     "output_type": "stream",
     "text": [
      "1 a\n"
     ]
    }
   ],
   "source": [
    "# Patrial unpack\n",
    "t = 1, 's', 33, '22', 'a'\n",
    "\n",
    "first, *_, last = t\n",
    "print(first, last)"
   ]
  },
  {
   "cell_type": "code",
   "execution_count": null,
   "id": "3927a8f3-1225-43c1-9705-738c5e118530",
   "metadata": {},
   "outputs": [],
   "source": []
  }
 ],
 "metadata": {
  "kernelspec": {
   "display_name": "Python 3 (ipykernel)",
   "language": "python",
   "name": "python3"
  },
  "language_info": {
   "codemirror_mode": {
    "name": "ipython",
    "version": 3
   },
   "file_extension": ".py",
   "mimetype": "text/x-python",
   "name": "python",
   "nbconvert_exporter": "python",
   "pygments_lexer": "ipython3",
   "version": "3.10.8"
  }
 },
 "nbformat": 4,
 "nbformat_minor": 5
}
