{
 "cells": [
  {
   "cell_type": "markdown",
   "id": "c6d1815c-5964-4243-877f-74bb0c657cd1",
   "metadata": {},
   "source": [
    "# Operator Module"
   ]
  },
  {
   "cell_type": "code",
   "execution_count": 20,
   "id": "97b479ae-17a4-4907-acd0-ab4b6dc6dd59",
   "metadata": {
    "tags": []
   },
   "outputs": [],
   "source": [
    "l = [0, 1, 2, -3, -4, 100, -200]"
   ]
  },
  {
   "cell_type": "code",
   "execution_count": 2,
   "id": "c508049f-d643-457e-aec2-37a1cf5bcbec",
   "metadata": {
    "tags": []
   },
   "outputs": [
    {
     "name": "stdout",
     "output_type": "stream",
     "text": [
      "[0, 1, 2, -3, -4, 100, -200]\n"
     ]
    }
   ],
   "source": [
    "print(l)"
   ]
  },
  {
   "cell_type": "code",
   "execution_count": 5,
   "id": "1cc5fd35-4c5c-47b1-a9cc-b99914a8ebe6",
   "metadata": {
    "tags": []
   },
   "outputs": [
    {
     "name": "stdout",
     "output_type": "stream",
     "text": [
      "-104\n"
     ]
    }
   ],
   "source": [
    "from functools import reduce\n",
    "r1 = reduce(lambda x, y: x+y, l)  # reduce function with lambda\n",
    "print(r1)"
   ]
  },
  {
   "cell_type": "markdown",
   "id": "cde95925-8d21-47f5-8ed2-f05026f7194c",
   "metadata": {},
   "source": [
    "## get operators we can use:"
   ]
  },
  {
   "cell_type": "code",
   "execution_count": 13,
   "id": "30cc4f4e-1ea4-43fc-87f6-6850acdce84d",
   "metadata": {
    "tags": []
   },
   "outputs": [],
   "source": [
    "import operator\n",
    "#dir(operator)"
   ]
  },
  {
   "cell_type": "code",
   "execution_count": 7,
   "id": "70e7ba3c-7a78-47c4-9e82-7f55c8082a39",
   "metadata": {
    "tags": []
   },
   "outputs": [
    {
     "name": "stdout",
     "output_type": "stream",
     "text": [
      "-104\n"
     ]
    }
   ],
   "source": [
    "r2 = reduce(operator.add, l)\n",
    "print(r2)"
   ]
  },
  {
   "cell_type": "code",
   "execution_count": 14,
   "id": "074bd162-c857-4dea-9164-5e5ff0f59964",
   "metadata": {
    "tags": []
   },
   "outputs": [
    {
     "name": "stdout",
     "output_type": "stream",
     "text": [
      "0\n"
     ]
    }
   ],
   "source": [
    "r2 = reduce(operator.mul, l)\n",
    "print(r2)"
   ]
  },
  {
   "cell_type": "code",
   "execution_count": 19,
   "id": "18e5c410-8316-47ca-af8b-248c009ccb3f",
   "metadata": {
    "tags": []
   },
   "outputs": [
    {
     "data": {
      "text/plain": [
       "[0, 100, -200]"
      ]
     },
     "execution_count": 19,
     "metadata": {},
     "output_type": "execute_result"
    }
   ],
   "source": [
    "operator.delitem(l, 1)\n",
    "l"
   ]
  },
  {
   "cell_type": "code",
   "execution_count": 21,
   "id": "c4fb251a-5ae2-4606-b8c0-f8a5483d907f",
   "metadata": {
    "tags": []
   },
   "outputs": [
    {
     "data": {
      "text/plain": [
       "[0, 1, 2, -3, -4, 100, -200]"
      ]
     },
     "execution_count": 21,
     "metadata": {},
     "output_type": "execute_result"
    }
   ],
   "source": [
    "l"
   ]
  },
  {
   "cell_type": "code",
   "execution_count": 41,
   "id": "66fe8250-3e83-461e-98f5-0e7bd67622ad",
   "metadata": {
    "tags": []
   },
   "outputs": [
    {
     "name": "stdout",
     "output_type": "stream",
     "text": [
      "1\n",
      "333\n",
      "--- (1, 2)\n"
     ]
    }
   ],
   "source": [
    "class MyClass:\n",
    "    def __init__(self):\n",
    "        self.a = 1\n",
    "        self.b = 2\n",
    "        self.c = 3\n",
    "        \n",
    "    def test(self, data):\n",
    "        print(\"TEST!\", data)\n",
    "\n",
    "class MyB:\n",
    "    def __init__(self):\n",
    "        b = 22\n",
    "        \n",
    "o1 = MyClass()\n",
    "print(o1.a)\n",
    "operator.attrgetter('a') # returns a callable\n",
    "pa = operator.attrgetter('a')\n",
    "pa(o1)\n",
    "\n",
    "o2 = MyB\n",
    "o2.a = 333\n",
    "print(pa(o2))\n",
    "\n",
    "print(\"---\", operator.attrgetter('a', 'b')(o1))"
   ]
  },
  {
   "cell_type": "code",
   "execution_count": 42,
   "id": "7378dd3a-e613-4df6-82ad-d061babf7a90",
   "metadata": {
    "tags": []
   },
   "outputs": [
    {
     "data": {
      "text/plain": [
       "[(-3+3j), (1+1j), (2+2j)]"
      ]
     },
     "execution_count": 42,
     "metadata": {},
     "output_type": "execute_result"
    }
   ],
   "source": [
    "cl = [1+1j, 2+2j, -3+3j]\n",
    "sorted(cl, key=operator.attrgetter('real'))"
   ]
  },
  {
   "cell_type": "code",
   "execution_count": 44,
   "id": "93f823e6-d4f6-4ec7-afae-26ccad69a134",
   "metadata": {
    "tags": []
   },
   "outputs": [
    {
     "name": "stdout",
     "output_type": "stream",
     "text": [
      "TEST! 1\n"
     ]
    }
   ],
   "source": [
    "f = operator.methodcaller('test', 1)\n",
    "f(o1)"
   ]
  },
  {
   "cell_type": "code",
   "execution_count": null,
   "id": "b3300442-40f1-402a-90e5-47ff9b6da18f",
   "metadata": {},
   "outputs": [],
   "source": []
  }
 ],
 "metadata": {
  "kernelspec": {
   "display_name": "Python 3 (ipykernel)",
   "language": "python",
   "name": "python3"
  },
  "language_info": {
   "codemirror_mode": {
    "name": "ipython",
    "version": 3
   },
   "file_extension": ".py",
   "mimetype": "text/x-python",
   "name": "python",
   "nbconvert_exporter": "python",
   "pygments_lexer": "ipython3",
   "version": "3.10.8"
  }
 },
 "nbformat": 4,
 "nbformat_minor": 5
}
