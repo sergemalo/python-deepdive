{
 "cells": [
  {
   "cell_type": "code",
   "execution_count": null,
   "id": "67a3d1c1-5943-41b9-864a-6459a14afbb5",
   "metadata": {},
   "outputs": [],
   "source": []
  },
  {
   "cell_type": "code",
   "execution_count": 3,
   "id": "6ef64683-9334-48b5-a5c0-0df1d9573a47",
   "metadata": {
    "tags": []
   },
   "outputs": [
    {
     "data": {
      "text/plain": [
       "list"
      ]
     },
     "execution_count": 3,
     "metadata": {},
     "output_type": "execute_result"
    }
   ],
   "source": [
    "import re\n",
    "fields = re.split(r'\\,', \"aa,bb,cc\")\n",
    "type(fields)"
   ]
  },
  {
   "cell_type": "code",
   "execution_count": 5,
   "id": "767732dc-6a8d-458d-b1db-1ec0e41e0f66",
   "metadata": {
    "tags": []
   },
   "outputs": [
    {
     "name": "stdout",
     "output_type": "stream",
     "text": [
      "JE T'AIME FÉLIX\n"
     ]
    }
   ],
   "source": [
    "print(\"JE T'AIME FÉLIX\")"
   ]
  },
  {
   "cell_type": "code",
   "execution_count": 2,
   "id": "7a6cb5a7-09d0-44b7-84f2-cf0d655f5fb8",
   "metadata": {},
   "outputs": [
    {
     "name": "stdout",
     "output_type": "stream",
     "text": [
      "Allo Bonjour\n",
      "Allo;Bonjour\n",
      "\n"
     ]
    }
   ],
   "source": [
    "print(\"Allo\", \"Bonjour\")\n",
    "print(\"Allo\", \"Bonjour\", sep=\";\", end='\\n\\n')"
   ]
  },
  {
   "cell_type": "code",
   "execution_count": 10,
   "id": "ca431ec2-536e-445a-8e67-72a1044d5831",
   "metadata": {
    "tags": []
   },
   "outputs": [
    {
     "name": "stdout",
     "output_type": "stream",
     "text": [
      "2---3---e\n",
      "2---3---e\n",
      "2---3---e\n",
      "2---3---e\n",
      "2---3---e\n",
      "2---3---e\n",
      "2---3---e\n",
      "2---3---e\n",
      "2---3---e\n",
      "2---3---e\n"
     ]
    },
    {
     "data": {
      "text/plain": [
       "1.2260000039532315e-05"
      ]
     },
     "execution_count": 10,
     "metadata": {},
     "output_type": "execute_result"
    }
   ],
   "source": [
    "import time\n",
    "def time_it(fn, *args, rep=1, **kwargs):\n",
    "    start = time.perf_counter()\n",
    "    for i in range(rep):\n",
    "        fn(*args, **kwargs)\n",
    "    stop = time.perf_counter()\n",
    "    return (stop-start)/rep\n",
    "time_it(print,  2, 3, 'e', sep='---', rep=10)"
   ]
  },
  {
   "cell_type": "code",
   "execution_count": 13,
   "id": "8f67c4ae-627a-4f52-8cd4-e68c8395f5a0",
   "metadata": {},
   "outputs": [
    {
     "data": {
      "text/plain": [
       "[0, 1, 4, 9, 16, 25, 36, 49, 64, 81]"
      ]
     },
     "execution_count": 13,
     "metadata": {},
     "output_type": "execute_result"
    }
   ],
   "source": [
    "# list comprenhension\n",
    "[i*i for i in range(10)]"
   ]
  },
  {
   "cell_type": "code",
   "execution_count": 17,
   "id": "4b4a590c-9f8c-4bcb-b8de-c54b9d4a82c3",
   "metadata": {
    "tags": []
   },
   "outputs": [
    {
     "data": {
      "text/plain": [
       "[0, 1, 4, 9, 16, 25, 36, 49, 64, 81]"
      ]
     },
     "execution_count": 17,
     "metadata": {},
     "output_type": "execute_result"
    }
   ],
   "source": [
    "# generators\n",
    "list((i*i for i in range(10)))"
   ]
  },
  {
   "cell_type": "code",
   "execution_count": 18,
   "id": "0e46f18f-0fbf-4f15-82d8-42fd35a5fb1c",
   "metadata": {
    "tags": []
   },
   "outputs": [
    {
     "name": "stdout",
     "output_type": "stream",
     "text": [
      "2023-03-19 18:42:13.164398\n"
     ]
    }
   ],
   "source": [
    "import datetime\n",
    "print(datetime.datetime.utcnow())\n"
   ]
  },
  {
   "cell_type": "code",
   "execution_count": 2,
   "id": "55fedf95-90f9-4b2b-8929-e286d6c931fb",
   "metadata": {
    "tags": []
   },
   "outputs": [
    {
     "name": "stdout",
     "output_type": "stream",
     "text": [
      "0x1cf4d9d8910\n",
      "0x1cf4d9d8910\n",
      "0x1cf4d9df990\n",
      "0x1cf4d9df990\n"
     ]
    }
   ],
   "source": [
    "class A:\n",
    "    def __init(self):\n",
    "        my_list = []\n",
    "\n",
    "class B:\n",
    "    def __init(self):\n",
    "        my_tuple = ()\n",
    "        \n",
    "a = A\n",
    "print(hex(id(a)))\n",
    "a.my_list = [1]\n",
    "print(hex(id(a)))\n",
    "\n",
    "b = B\n",
    "print(hex(id(b)))\n",
    "a.my_tuple = (1, 2)\n",
    "print(hex(id(b)))\n"
   ]
  },
  {
   "cell_type": "code",
   "execution_count": 3,
   "id": "6a88b0c2-a994-4503-a984-f23bdb7a3c75",
   "metadata": {},
   "outputs": [
    {
     "data": {
      "text/plain": [
       "[0, 1, 2, 3, 4, 5, 6, 7, 8, 9]"
      ]
     },
     "execution_count": 3,
     "metadata": {},
     "output_type": "execute_result"
    }
   ],
   "source": [
    "list(range(10))"
   ]
  },
  {
   "cell_type": "code",
   "execution_count": 4,
   "id": "7d170cae-8642-4535-ab82-c777401f7e30",
   "metadata": {},
   "outputs": [
    {
     "data": {
      "text/plain": [
       "[1]"
      ]
     },
     "execution_count": 4,
     "metadata": {},
     "output_type": "execute_result"
    }
   ],
   "source": [
    "a.my_list"
   ]
  },
  {
   "cell_type": "code",
   "execution_count": 5,
   "id": "659b4456-0afe-49fb-878b-27db667917f0",
   "metadata": {
    "tags": []
   },
   "outputs": [],
   "source": [
    "a.toto = 1\n"
   ]
  },
  {
   "cell_type": "code",
   "execution_count": 6,
   "id": "11a104d2-b48a-410c-a15a-d522e30a1b82",
   "metadata": {
    "tags": []
   },
   "outputs": [
    {
     "data": {
      "text/plain": [
       "1"
      ]
     },
     "execution_count": 6,
     "metadata": {},
     "output_type": "execute_result"
    }
   ],
   "source": [
    "a.toto"
   ]
  },
  {
   "cell_type": "code",
   "execution_count": null,
   "id": "0df28563-9908-40a1-a0d5-22bdbce5bb38",
   "metadata": {},
   "outputs": [],
   "source": []
  }
 ],
 "metadata": {
  "kernelspec": {
   "display_name": "Python 3 (ipykernel)",
   "language": "python",
   "name": "python3"
  },
  "language_info": {
   "codemirror_mode": {
    "name": "ipython",
    "version": 3
   },
   "file_extension": ".py",
   "mimetype": "text/x-python",
   "name": "python",
   "nbconvert_exporter": "python",
   "pygments_lexer": "ipython3",
   "version": "3.10.8"
  }
 },
 "nbformat": 4,
 "nbformat_minor": 5
}
