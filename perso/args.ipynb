{
 "cells": [
  {
   "cell_type": "markdown",
   "id": "7a15a70b-73b2-409f-8981-c078b554abe9",
   "metadata": {},
   "source": [
    "# Positional and Keyword Arguments"
   ]
  },
  {
   "cell_type": "code",
   "execution_count": 5,
   "id": "6ff55868-d619-4a50-bfc6-d009b1db2914",
   "metadata": {
    "tags": []
   },
   "outputs": [
    {
     "name": "stdout",
     "output_type": "stream",
     "text": [
      "1 2 (3, 4)\n",
      "5 6 (7, 8)\n"
     ]
    }
   ],
   "source": [
    "def func(a, b, *args):\n",
    "    print (a, b, args) ## args is a tuple, not a list!\n",
    "\n",
    "func(1, 2, 3, 4)\n",
    "l = [5, 6, 7, 8]\n",
    "func(*l) # YOu can unpack when calling a function"
   ]
  },
  {
   "cell_type": "code",
   "execution_count": 14,
   "id": "cba625be-94b4-4b2e-a3e5-d49b04294e0b",
   "metadata": {
    "tags": []
   },
   "outputs": [
    {
     "name": "stdout",
     "output_type": "stream",
     "text": [
      "1 2 (3, 4) 5\n",
      "1 2 () 5\n"
     ]
    }
   ],
   "source": [
    "def func2(a, b, *args, d): # This is a MANDATORY Keyword argument\n",
    "    print (a, b, args, d) ## args is a tuple, not a list!\n",
    "\n",
    "#func2(1, 2, 3, 4, 5) # This cause an exception\n",
    "func2(1, 2, 3, 4, d=5)\n",
    "func2(1, 2, d=5) "
   ]
  },
  {
   "cell_type": "markdown",
   "id": "c8abbd8e-1a88-42a9-8884-0ac27c4f92f2",
   "metadata": {},
   "source": [
    "# Keyword arguments"
   ]
  },
  {
   "cell_type": "code",
   "execution_count": 5,
   "id": "48668071-3adc-4f1f-8712-2d82b925ec73",
   "metadata": {
    "tags": []
   },
   "outputs": [
    {
     "name": "stdout",
     "output_type": "stream",
     "text": [
      "1 2 3\n",
      "1 2 3\n"
     ]
    }
   ],
   "source": [
    "def funcA(a, b, c):\n",
    "    print(a, b, c)\n",
    "\n",
    "funcA(1, 2, 3)\n",
    "funcA(c=3, b=2, a=1) # This is what we call \"keyword arguments\"\n"
   ]
  },
  {
   "cell_type": "code",
   "execution_count": 13,
   "id": "1eb991a1-94f4-4284-9d05-b126a66a88b4",
   "metadata": {
    "tags": []
   },
   "outputs": [
    {
     "name": "stdout",
     "output_type": "stream",
     "text": [
      "1 2 5\n",
      "1 3 5\n"
     ]
    }
   ],
   "source": [
    "def funcB(a, b=2, *, d):\n",
    "    print(a, b, d)\n",
    "    \n",
    "#funcB(1, 2, 3, 4, d=5)\n",
    "funcB(1, d=5)\n",
    "funcB(1, 3, d=5)"
   ]
  },
  {
   "cell_type": "code",
   "execution_count": 17,
   "id": "d7e25568-73bd-4d11-8c05-95a89340c088",
   "metadata": {
    "tags": []
   },
   "outputs": [
    {
     "name": "stdout",
     "output_type": "stream",
     "text": [
      "1 () 0 a\n",
      "zzz () 0 a\n",
      "yy (1, 2, 3, 4) 0 a\n"
     ]
    }
   ],
   "source": [
    "def funcC(a=1, *args, b=0, c='a'):\n",
    "    print(a, args, b, c)\n",
    "\n",
    "funcC()\n",
    "funcC('zzz')\n",
    "funcC('yy', 1, 2, 3, 4)"
   ]
  },
  {
   "cell_type": "markdown",
   "id": "05baa048-fe74-4361-9a9d-2d1ae0578796",
   "metadata": {},
   "source": [
    "## **kwargs"
   ]
  },
  {
   "cell_type": "code",
   "execution_count": 26,
   "id": "ff46d5e4-5bd3-4cbb-94d8-1fe006038a3e",
   "metadata": {
    "tags": []
   },
   "outputs": [
    {
     "name": "stdout",
     "output_type": "stream",
     "text": [
      "1 {}\n",
      "2 {'b': 2}\n"
     ]
    }
   ],
   "source": [
    "def funcD(*, a, **kwargs):\n",
    "    print(a, kwargs) # kwargs will be a dictionary with parameter names/values\n",
    "    \n",
    "funcD(a=1)\n",
    "funcD(a=2, b=2) "
   ]
  },
  {
   "cell_type": "code",
   "execution_count": 27,
   "id": "130a9d8e-6e43-4102-9581-153d493b4e34",
   "metadata": {
    "tags": []
   },
   "outputs": [
    {
     "name": "stdout",
     "output_type": "stream",
     "text": [
      "1 2 (3, 4, 5, 6) ccc {'d': 1, 'e': 2, 'f': 3}\n"
     ]
    }
   ],
   "source": [
    "def funcE(a, b, *args, c, **kwargs):\n",
    "    print(a, b, args, c, kwargs)\n",
    "\n",
    "funcE(1, 2, 3, 4, 5, 6, c='ccc', d=1, e=2, f=3)"
   ]
  },
  {
   "cell_type": "code",
   "execution_count": 33,
   "id": "c55bd2a7-14d5-4929-940c-8cfca3d27d76",
   "metadata": {
    "tags": []
   },
   "outputs": [
    {
     "name": "stdout",
     "output_type": "stream",
     "text": [
      "1 2 3\n"
     ]
    }
   ],
   "source": [
    "def funcKeywordsOnly(*, a, b, c):\n",
    "    print(a, b, c)\n",
    "    \n",
    "funcKeywordsOnly(a=1, b=2, c=3) # Keyworded arguments mandatory"
   ]
  },
  {
   "cell_type": "code",
   "execution_count": 1,
   "id": "93864385-31a7-417e-817b-836a25877a0d",
   "metadata": {
    "tags": []
   },
   "outputs": [
    {
     "name": "stdout",
     "output_type": "stream",
     "text": [
      "1 2 ()\n",
      "1 2 ('x', 'y', 'z')\n"
     ]
    }
   ],
   "source": [
    "def ff(a, b, *args):\n",
    "    print(a, b, args)\n",
    "    \n",
    "ff(1, 2)\n",
    "ff(1, 2, 'x', 'y', 'z')\n",
    "#ff(a=1, b=2, 'x', 'y', 'z') # WRONG !"
   ]
  },
  {
   "cell_type": "code",
   "execution_count": null,
   "id": "67f76c88-ffba-480b-af91-e1b33908ee2a",
   "metadata": {},
   "outputs": [],
   "source": []
  }
 ],
 "metadata": {
  "kernelspec": {
   "display_name": "Python 3 (ipykernel)",
   "language": "python",
   "name": "python3"
  },
  "language_info": {
   "codemirror_mode": {
    "name": "ipython",
    "version": 3
   },
   "file_extension": ".py",
   "mimetype": "text/x-python",
   "name": "python",
   "nbconvert_exporter": "python",
   "pygments_lexer": "ipython3",
   "version": "3.10.8"
  }
 },
 "nbformat": 4,
 "nbformat_minor": 5
}
