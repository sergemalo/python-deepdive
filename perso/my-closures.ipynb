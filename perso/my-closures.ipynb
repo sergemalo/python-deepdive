{
 "cells": [
  {
   "cell_type": "markdown",
   "id": "48dace4d-b80e-4442-8f72-c860cd627358",
   "metadata": {},
   "source": [
    "# CLOSURES\n",
    "* Free variable\n",
    "* Cells\n",
    "\n",
    "Closure is a function PLUS an extended scope thant contains free variables (nonlocal variables used by the function)\n",
    "\n",
    "#### Lambdas\n",
    "Lambdas are NOT closures - they are just functions!"
   ]
  },
  {
   "cell_type": "code",
   "execution_count": 4,
   "id": "0680af80-91b8-408c-991c-2bd64b95e22b",
   "metadata": {
    "tags": []
   },
   "outputs": [
    {
     "name": "stdout",
     "output_type": "stream",
     "text": [
      "1\n",
      "2\n",
      "1\n",
      "3\n",
      "('count',)\n",
      "(<cell at 0x00000259FE20DD20: int object at 0x00000259F95D0130>,)\n",
      "('count',)\n",
      "(<cell at 0x00000259FE20E800: int object at 0x00000259F95D00F0>,)\n"
     ]
    }
   ],
   "source": [
    "def counter():\n",
    "    count = 0\n",
    "    \n",
    "    def inside():\n",
    "        nonlocal count\n",
    "        count += 1\n",
    "        return count\n",
    "    return inside\n",
    "\n",
    "f1 = counter() # We get a closure\n",
    "f2 = counter() # We get another closure - different from the first one!!\n",
    "# If we want 2 callables pointing to the same closure, \n",
    "# we need to define another inside function, and return both in a tuple\n",
    "\n",
    "\n",
    "print(f1())\n",
    "print(f1())\n",
    "print(f2())\n",
    "print(f1())\n",
    "print(f1.__code__.co_freevars)\n",
    "print(f1.__closure__)\n",
    "print(f2.__code__.co_freevars)\n",
    "print(f2.__closure__)\n"
   ]
  },
  {
   "cell_type": "code",
   "execution_count": 7,
   "id": "48959e72-4b74-4366-9dc6-d63680d60a66",
   "metadata": {
    "tags": []
   },
   "outputs": [
    {
     "name": "stdout",
     "output_type": "stream",
     "text": [
      "25\n",
      "125\n"
     ]
    }
   ],
   "source": [
    "def pow(n):\n",
    "    def inner(x):\n",
    "        return x ** n\n",
    "    return inner\n",
    "\n",
    "square = pow(2) # Scope with n = 2\n",
    "cube = pow(3)   # 2nd Scope with n = 3\n",
    "print(square(5))\n",
    "print(cube(5))"
   ]
  },
  {
   "cell_type": "markdown",
   "id": "22b750be-1812-49d7-b1e4-4f6dfcadd425",
   "metadata": {},
   "source": [
    "# Applicatons"
   ]
  },
  {
   "cell_type": "code",
   "execution_count": 10,
   "id": "208fc478-90ee-4d9d-a4ca-58049bd2732c",
   "metadata": {
    "tags": []
   },
   "outputs": [
    {
     "name": "stdout",
     "output_type": "stream",
     "text": [
      "10.0\n",
      "15.0\n"
     ]
    }
   ],
   "source": [
    "def moy():\n",
    "    #numbers = []\n",
    "    t = 0\n",
    "    c = 0\n",
    "    def add(n):\n",
    "        #numbers.append(n)\n",
    "        #t = sum(numbers)\n",
    "        #c = len(numbers)\n",
    "        #return t / c\n",
    "        nonlocal t  # IMPORTANT !!!!\n",
    "        nonlocal c\n",
    "        t = t + n\n",
    "        c = c + 1\n",
    "        return t / c\n",
    "    return add\n",
    "\n",
    "a = moy()\n",
    "print(a(10))\n",
    "print(a(20))"
   ]
  },
  {
   "cell_type": "markdown",
   "id": "4c8c6071-d599-403d-b9d2-5d587b0e4115",
   "metadata": {},
   "source": [
    "### Same as using a class - different way to implement this"
   ]
  },
  {
   "cell_type": "code",
   "execution_count": null,
   "id": "92471f42-ed67-4b08-a142-1e46888915e4",
   "metadata": {},
   "outputs": [],
   "source": []
  }
 ],
 "metadata": {
  "kernelspec": {
   "display_name": "Python 3 (ipykernel)",
   "language": "python",
   "name": "python3"
  },
  "language_info": {
   "codemirror_mode": {
    "name": "ipython",
    "version": 3
   },
   "file_extension": ".py",
   "mimetype": "text/x-python",
   "name": "python",
   "nbconvert_exporter": "python",
   "pygments_lexer": "ipython3",
   "version": "3.10.8"
  }
 },
 "nbformat": 4,
 "nbformat_minor": 5
}
