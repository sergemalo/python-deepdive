{
 "cells": [
  {
   "cell_type": "markdown",
   "id": "63c48e35-2802-494a-84a4-1fcfc3fe7e58",
   "metadata": {
    "tags": []
   },
   "source": [
    "# Decorators"
   ]
  },
  {
   "cell_type": "code",
   "execution_count": 45,
   "id": "beb0e6e2-6331-45b4-bba1-1af25a138d9d",
   "metadata": {
    "tags": []
   },
   "outputs": [
    {
     "name": "stdout",
     "output_type": "stream",
     "text": [
      "a\n",
      "r =  3\n",
      "a\n",
      "r =  101\n",
      "Help on function plus in module __main__:\n",
      "\n",
      "plus(a, b=0)\n",
      "    Additionne deux nombres\n",
      "\n",
      "{'plus': 2}\n"
     ]
    }
   ],
   "source": [
    "global_counter_dic = {}\n",
    "\n",
    "# DEFINE COUNTER DECORATOR\n",
    "from functools import wraps\n",
    "def counter(fn):\n",
    "    global_counter_dic[fn.__name__] = 0\n",
    "    @wraps(fn)  # Make sure help(fn) returns meaninful info\n",
    "    def inner(*args, **kwargs):\n",
    "        # Not using nonlocal c\n",
    "        #nonlocal c\n",
    "        print(\"a\")\n",
    "        global_counter_dic[fn.__name__] += 1\n",
    "        return fn(*args, **kwargs)\n",
    "    \n",
    "    return inner\n",
    "\n",
    "# Apply decorator directly during the definition of my function\n",
    "@counter\n",
    "def plus(a, b=0):\n",
    "    \"\"\"\n",
    "    Additionne deux nombres\n",
    "    \"\"\"\n",
    "    return a+b\n",
    "# same as:\n",
    "#plus = counter(plus)\n",
    "\n",
    "\n",
    "r = plus(1,2)\n",
    "print(\"r = \", r)\n",
    "r = plus(1,100)\n",
    "print(\"r = \", r)\n",
    "help(plus)\n",
    "print (global_counter_dic)\n"
   ]
  },
  {
   "cell_type": "markdown",
   "id": "7ec5f871-eb10-4471-bcd0-7bb50f9e7d9c",
   "metadata": {
    "tags": []
   },
   "source": [
    "# Timer decorator\n",
    "We could decorate with a timer that call the function multiple times to get averages...\n",
    "Question is: do you want to decorate with a timer once to benchmark, or you want to always have timers attaches to some of your function"
   ]
  },
  {
   "cell_type": "code",
   "execution_count": 2,
   "id": "32babab6-daa0-4c47-9eab-74c4244ed21c",
   "metadata": {
    "tags": []
   },
   "outputs": [],
   "source": [
    "# Timer decorator\n",
    "def timed(fn):\n",
    "    from time import perf_counter\n",
    "    from functools import wraps\n",
    "    \n",
    "    @wraps(fn)\n",
    "    def inner(*args, **kwargs):\n",
    "        start = perf_counter()\n",
    "        result = fn(*args, **kwargs)\n",
    "        end = perf_counter()\n",
    "        el = end - start\n",
    "        \n",
    "        args_ = [str(a) for a in args]\n",
    "        kwargs_ = ['{0}={1}'.format(k, v) for (k, v) in kwargs.items()]\n",
    "        all_args = args_ + kwargs_\n",
    "        args_str = ','.join(all_args)\n",
    "        \n",
    "        print('{0}({1}) took {2:.6f}s to run'.format(fn.__name__, args_str, el))\n",
    "        \n",
    "        return result\n",
    "    return inner"
   ]
  },
  {
   "cell_type": "code",
   "execution_count": 8,
   "id": "22c909b1-ef84-495a-baac-fd685425fd3a",
   "metadata": {
    "tags": []
   },
   "outputs": [
    {
     "name": "stdout",
     "output_type": "stream",
     "text": [
      "fib_rec_wrap(30) took 0.182585s to run\n",
      "1346269\n",
      "fib_loop(30) took 0.000003s to run\n",
      "1346269\n",
      "fib_reduce(30) took 0.000004s to run\n",
      "1346269\n"
     ]
    }
   ],
   "source": [
    "#@timed\n",
    "def fib_rec(n):\n",
    "    if n <= 1:\n",
    "        return 1\n",
    "    else:\n",
    "        return fib_rec(n-1) + fib_rec(n-2)\n",
    "\n",
    "    \n",
    "@timed\n",
    "def fib_rec_wrap(n):\n",
    "    return fib_rec(n)\n",
    "print(fib_rec_wrap(30))\n",
    "\n",
    "@timed\n",
    "def fib_loop(n):\n",
    "    fib1 = 1\n",
    "    fib2 = 2\n",
    "    for i in range(3, n+1):\n",
    "        fib1, fib2 = fib2, fib1 + fib2\n",
    "    return fib2\n",
    "\n",
    "print(fib_loop(30))\n",
    "\n",
    "from functools import reduce\n",
    "@timed\n",
    "def fib_reduce(n):\n",
    "    initial = (1, 0)\n",
    "    dummy = range(n)\n",
    "    fib_n = reduce(lambda prev, n: (prev[0] + prev[1], prev[0]), dummy, initial)\n",
    "    return fib_n[0]\n",
    "                   \n",
    "print(fib_reduce(30))\n",
    "                                                              "
   ]
  },
  {
   "cell_type": "markdown",
   "id": "785a67ae-f395-4c85-b6e7-d979ca746469",
   "metadata": {},
   "source": [
    "# Memoization decorator"
   ]
  },
  {
   "cell_type": "code",
   "execution_count": 17,
   "id": "4849e90d-b65d-49ad-8b08-773a1ff8f53f",
   "metadata": {
    "tags": []
   },
   "outputs": [],
   "source": [
    "class Fib:\n",
    "    def __init__(self):\n",
    "        self.cache = {1: 1, 2: 1}\n",
    "        \n",
    "    def fib(self, n):\n",
    "        if n not in self.cache:\n",
    "            print(\"Calculating Fib of \", n)\n",
    "            self.cache[n] = self.fib(n-1) + self.fib(n-2)\n",
    "        return self.cache[n]\n",
    "    "
   ]
  },
  {
   "cell_type": "code",
   "execution_count": 18,
   "id": "6e10778c-bdc9-4459-b6f2-290a2279bc33",
   "metadata": {
    "tags": []
   },
   "outputs": [
    {
     "name": "stdout",
     "output_type": "stream",
     "text": [
      "Calculating Fib of  10\n",
      "Calculating Fib of  9\n",
      "Calculating Fib of  8\n",
      "Calculating Fib of  7\n",
      "Calculating Fib of  6\n",
      "Calculating Fib of  5\n",
      "Calculating Fib of  4\n",
      "Calculating Fib of  3\n"
     ]
    },
    {
     "data": {
      "text/plain": [
       "55"
      ]
     },
     "execution_count": 18,
     "metadata": {},
     "output_type": "execute_result"
    }
   ],
   "source": [
    "f = Fib()\n",
    "f.fib(10)"
   ]
  },
  {
   "cell_type": "code",
   "execution_count": 19,
   "id": "ecf709a6-9c1a-4002-a3da-af4880302ef4",
   "metadata": {
    "tags": []
   },
   "outputs": [
    {
     "data": {
      "text/plain": [
       "55"
      ]
     },
     "execution_count": 19,
     "metadata": {},
     "output_type": "execute_result"
    }
   ],
   "source": [
    "f.fib(10)"
   ]
  },
  {
   "cell_type": "code",
   "execution_count": 20,
   "id": "acf629ce-fd98-495d-9cb7-253a7d6b8644",
   "metadata": {
    "tags": []
   },
   "outputs": [],
   "source": [
    "# We can do the same caching with a closure"
   ]
  },
  {
   "cell_type": "code",
   "execution_count": 30,
   "id": "f736c63c-a401-46d0-bb0c-98754fc36a3e",
   "metadata": {
    "tags": []
   },
   "outputs": [],
   "source": [
    "# Memoization generic decorator\n",
    "# TBD: Force fn to have only one parameter\n",
    "# TBD: Cache limit and LRU algo...\n",
    "def memoize(fn):\n",
    "    cache = dict() # M\n",
    "    \n",
    "    @wraps(fn)\n",
    "    def inner(n):\n",
    "        if n not in cache:\n",
    "            cache[n] = fn(n)\n",
    "        return cache[n]\n",
    "    return inner"
   ]
  },
  {
   "cell_type": "code",
   "execution_count": 31,
   "id": "e94551ef-e9f9-4808-8ddd-daaf4bfc11e1",
   "metadata": {
    "tags": []
   },
   "outputs": [],
   "source": [
    "@memoize\n",
    "def fact(n):\n",
    "    print(\"Fact of \", n)\n",
    "    return 1 if n < 2 else n * fact(n-1)\n"
   ]
  },
  {
   "cell_type": "code",
   "execution_count": 32,
   "id": "7875f15b-35a4-404e-9e35-6bd29ec1028c",
   "metadata": {
    "tags": []
   },
   "outputs": [
    {
     "name": "stdout",
     "output_type": "stream",
     "text": [
      "Fact of  10\n",
      "Fact of  9\n",
      "Fact of  8\n",
      "Fact of  7\n",
      "Fact of  6\n",
      "Fact of  5\n",
      "Fact of  4\n",
      "Fact of  3\n",
      "Fact of  2\n",
      "Fact of  1\n"
     ]
    },
    {
     "data": {
      "text/plain": [
       "3628800"
      ]
     },
     "execution_count": 32,
     "metadata": {},
     "output_type": "execute_result"
    }
   ],
   "source": [
    "fact(10)"
   ]
  },
  {
   "cell_type": "code",
   "execution_count": 33,
   "id": "a6718b88-cfb9-47af-965f-287f317a977e",
   "metadata": {
    "tags": []
   },
   "outputs": [
    {
     "data": {
      "text/plain": [
       "3628800"
      ]
     },
     "execution_count": 33,
     "metadata": {},
     "output_type": "execute_result"
    }
   ],
   "source": [
    "fact(10)"
   ]
  },
  {
   "cell_type": "code",
   "execution_count": 34,
   "id": "d3663908-9b9a-4ac4-b5f0-bbf7a2f3e1a3",
   "metadata": {
    "tags": []
   },
   "outputs": [
    {
     "name": "stdout",
     "output_type": "stream",
     "text": [
      "Help on function fact in module __main__:\n",
      "\n",
      "fact(n)\n",
      "\n"
     ]
    }
   ],
   "source": [
    "help(fact)"
   ]
  },
  {
   "cell_type": "code",
   "execution_count": 35,
   "id": "151ae3d4-956b-40d7-b464-b07ead2e33af",
   "metadata": {
    "tags": []
   },
   "outputs": [],
   "source": [
    "# Built-in lru_cache\n",
    "# default cache size is around 128 entries\n",
    "from functools import lru_cache\n",
    "@lru_cache\n",
    "def fib(n):\n",
    "    print(\"calc fib of \", n)\n",
    "    return 1 if n < 3 else fib(n-1) + fib(n=2)"
   ]
  },
  {
   "cell_type": "code",
   "execution_count": 36,
   "id": "fcf2c1d8-9fff-425a-9bbb-6453ce9cb133",
   "metadata": {
    "tags": []
   },
   "outputs": [
    {
     "name": "stdout",
     "output_type": "stream",
     "text": [
      "calc fib of  11\n",
      "calc fib of  10\n",
      "calc fib of  9\n",
      "calc fib of  8\n",
      "calc fib of  7\n",
      "calc fib of  6\n",
      "calc fib of  5\n",
      "calc fib of  4\n",
      "calc fib of  3\n",
      "calc fib of  2\n",
      "calc fib of  2\n"
     ]
    },
    {
     "data": {
      "text/plain": [
       "10"
      ]
     },
     "execution_count": 36,
     "metadata": {},
     "output_type": "execute_result"
    }
   ],
   "source": [
    "fib(11)"
   ]
  },
  {
   "cell_type": "code",
   "execution_count": 37,
   "id": "37e24e7b-a7b8-4b78-8287-f07541cc9aab",
   "metadata": {
    "tags": []
   },
   "outputs": [
    {
     "data": {
      "text/plain": [
       "10"
      ]
     },
     "execution_count": 37,
     "metadata": {},
     "output_type": "execute_result"
    }
   ],
   "source": [
    "fib(11)"
   ]
  },
  {
   "cell_type": "markdown",
   "id": "a2c10a7e-8d7b-4911-abf7-1ef52dfd4d37",
   "metadata": {},
   "source": [
    "# Decorators Part 2\n",
    "### Decorator Factory"
   ]
  },
  {
   "cell_type": "code",
   "execution_count": 61,
   "id": "976cdcdd-72a6-4f01-9582-dda8f416c967",
   "metadata": {
    "tags": []
   },
   "outputs": [],
   "source": [
    "# Time-bench decorator\n",
    "\n",
    "def time_bench(reps):\n",
    "    def time_bench_dec(fn): # DECORATOR CAN ONLY TAKE ONE PARAMETER: THE FUNCTION TO DECORATE\n",
    "        from time import perf_counter\n",
    "        from functools import wraps\n",
    "\n",
    "        @wraps(fn)\n",
    "        def inner(*args, **kwargs):\n",
    "            total_el = 0\n",
    "            for i in range(reps):\n",
    "                start = perf_counter()\n",
    "                result = fn(*args, **kwargs)\n",
    "                total_el += perf_counter() - start\n",
    "            avg = total_el / reps  # Using the free variable \"reps\"\n",
    "\n",
    "            args_ = [str(a) for a in args]\n",
    "            kwargs_ = ['{0}={1}'.format(k, v) for (k, v) in kwargs.items()]\n",
    "            all_args = args_ + kwargs_\n",
    "            args_str = ','.join(all_args)\n",
    "\n",
    "            print('{0}({1}) took an average of {2:.6f}s to run'.format(fn.__name__, args_str, avg))\n",
    "\n",
    "            return result\n",
    "        return inner\n",
    "    return time_bench_dec  # RETURNING THE DECORATOR"
   ]
  },
  {
   "cell_type": "code",
   "execution_count": 64,
   "id": "81dc36b5-881d-4e09-835a-9922b21e5e23",
   "metadata": {
    "tags": []
   },
   "outputs": [
    {
     "name": "stdout",
     "output_type": "stream",
     "text": [
      "fib_rs(30) took an average of 0.132659s to run\n"
     ]
    },
    {
     "data": {
      "text/plain": [
       "832040"
      ]
     },
     "execution_count": 64,
     "metadata": {},
     "output_type": "execute_result"
    }
   ],
   "source": [
    "def fib_r(n):\n",
    "    #print(\"calc fib of \", n)\n",
    "    return 1 if n < 3 else fib_r(n-1) + fib_r(n-2)\n",
    "\n",
    "@time_bench(10)  ## CALLING THE DECORATOR FACTORY\n",
    "def fib_rs(n):\n",
    "    return fib_r(n)\n",
    "\n",
    "fib_rs(30)"
   ]
  },
  {
   "cell_type": "markdown",
   "id": "c566ba49-18d0-4b9f-8376-e2edae2c88e7",
   "metadata": {},
   "source": [
    "# Decorators factory from a callable class"
   ]
  },
  {
   "cell_type": "code",
   "execution_count": 65,
   "id": "3cd07372-7bc6-468f-a7b4-29042848154e",
   "metadata": {
    "tags": []
   },
   "outputs": [
    {
     "name": "stdout",
     "output_type": "stream",
     "text": [
      "decorated called:  10 20\n",
      "allo\n"
     ]
    }
   ],
   "source": [
    "def my_dec(a, b):\n",
    "    def dec(fn):\n",
    "        def inner(*args, **kwargs):\n",
    "            print(\"decorated called: \", a, b)\n",
    "            return fn(*args, **kwargs)\n",
    "        return inner\n",
    "    return dec\n",
    "\n",
    "@my_dec(10, 20)\n",
    "def my(s):\n",
    "    print(s)\n",
    "\n",
    "my(\"allo\")"
   ]
  },
  {
   "cell_type": "code",
   "execution_count": 70,
   "id": "a94e981f-38b6-467e-83d3-afd265763824",
   "metadata": {
    "tags": []
   },
   "outputs": [],
   "source": [
    "class MyClass:\n",
    "    def __init__(self, a, b):\n",
    "        self.a = a\n",
    "        self.b = b\n",
    "        \n",
    "    def __call__(self, c):\n",
    "        print(\"called \", self.a, self.b, c)\n",
    "        \n",
    "my = MyClass(1, 2)"
   ]
  },
  {
   "cell_type": "code",
   "execution_count": 71,
   "id": "f71026b3-570b-4902-acbc-2120b9a5123d",
   "metadata": {
    "tags": []
   },
   "outputs": [
    {
     "name": "stdout",
     "output_type": "stream",
     "text": [
      "called  1 2 3\n"
     ]
    }
   ],
   "source": [
    "my(3)"
   ]
  },
  {
   "cell_type": "code",
   "execution_count": 79,
   "id": "161bd939-5d98-495b-9267-d53dd01fac98",
   "metadata": {
    "tags": []
   },
   "outputs": [],
   "source": [
    "class MyClass:\n",
    "    def __init__(self, a, b):\n",
    "        self.a = a\n",
    "        self.b = b\n",
    "        \n",
    "    def __call__(self, fn): # THIS IS a DECORATOR !\n",
    "        def inner(*args, **kwargs):\n",
    "            print(\"decorated called: \", self.a, self.b)\n",
    "            return fn(*args, **kwargs)\n",
    "        return inner\n",
    "        \n"
   ]
  },
  {
   "cell_type": "code",
   "execution_count": 80,
   "id": "7a56a93a-6c72-492d-b00a-e293040d749b",
   "metadata": {
    "tags": []
   },
   "outputs": [],
   "source": [
    "@MyClass(10, 20)\n",
    "def my2(s):\n",
    "    print(s)"
   ]
  },
  {
   "cell_type": "code",
   "execution_count": 81,
   "id": "440d53eb-88ce-4c2e-88ee-14a0f8b1d86f",
   "metadata": {
    "tags": []
   },
   "outputs": [
    {
     "name": "stdout",
     "output_type": "stream",
     "text": [
      "decorated called:  10 20\n",
      "allo\n"
     ]
    }
   ],
   "source": [
    "my2(\"allo\")"
   ]
  },
  {
   "cell_type": "markdown",
   "id": "12bd2dd3-3567-4902-a539-5a2e73f6688f",
   "metadata": {},
   "source": [
    "# Decorating classes"
   ]
  },
  {
   "cell_type": "code",
   "execution_count": 87,
   "id": "467e7730-2d32-4ea0-a953-0fbda55bc7fb",
   "metadata": {
    "tags": []
   },
   "outputs": [
    {
     "data": {
      "text/plain": [
       "'Msg: allo'"
      ]
     },
     "execution_count": 87,
     "metadata": {},
     "output_type": "execute_result"
    }
   ],
   "source": [
    "# \"Monkey patching\"\n",
    "from fractions import Fraction\n",
    "Fraction.speak = lambda self, msg: \"Msg: \" + msg\n",
    "\n",
    "f = Fraction(2, 3)\n",
    "f.speak(\"allo\")"
   ]
  },
  {
   "cell_type": "code",
   "execution_count": 103,
   "id": "70fc8bcf-b00c-4ecb-8bc5-0e894d98a4d9",
   "metadata": {
    "tags": []
   },
   "outputs": [],
   "source": [
    "def dec_speak2(cls):\n",
    "    cls.speak2 = lambda self, msg: \"Msg: \" + msg\n",
    "    return cls\n",
    "\n",
    "#@dec_speak2\n",
    "class MyClass3:\n",
    "    pass\n",
    "\n",
    "MyClass3 = dec_speak2(MyClass3)\n"
   ]
  },
  {
   "cell_type": "code",
   "execution_count": 104,
   "id": "624b58dd-9711-4e9c-83e0-539aebfb553d",
   "metadata": {
    "tags": []
   },
   "outputs": [
    {
     "data": {
      "text/plain": [
       "'Msg: allo'"
      ]
     },
     "execution_count": 104,
     "metadata": {},
     "output_type": "execute_result"
    }
   ],
   "source": [
    "m = MyClass3()\n",
    "m.speak2(\"allo\")"
   ]
  },
  {
   "cell_type": "markdown",
   "id": "6d43c53c-b1e2-4811-b6dd-517280b40a5d",
   "metadata": {},
   "source": [
    "# Single Dispatch Generic Functions"
   ]
  },
  {
   "cell_type": "code",
   "execution_count": 1,
   "id": "8c840e32-143b-4752-a7e6-028edfb25d3b",
   "metadata": {
    "tags": []
   },
   "outputs": [],
   "source": [
    "from html import escape"
   ]
  },
  {
   "cell_type": "code",
   "execution_count": 7,
   "id": "51607d08-8bda-4dd5-918f-bc772b6226f0",
   "metadata": {
    "tags": []
   },
   "outputs": [],
   "source": [
    "def html_escape(arg):\n",
    "    return escape(str(arg))\n",
    "\n",
    "def html_int(a):\n",
    "    return '{0}(<i>{1}</i>)'.format(a, str(hex(a)))\n",
    "\n",
    "def html_real(a):\n",
    "    return '{0:.2f}'.format(round(a, 2))\n",
    "\n",
    "def html_str(s):\n",
    "    return html_escape(s).replace('\\n', '<br/>\\n')\n",
    "\n",
    "def html_list(l):\n",
    "    items = ('<li>{0}</li>'.format(html_escape(items))\n",
    "             for itm in l\n",
    "            )\n",
    "    return ('<ul>\\n' + '\\n'.join(items) + '\\n</ul>')\n",
    "\n",
    "def html_dict(d):\n",
    "    items = ('<li{0}={1}</li>'.format(k, v)\n",
    "             for k, v in d.items())\n",
    "    return '<ul>' + '@n'.join(items) + '\\n</ul>'"
   ]
  },
  {
   "cell_type": "code",
   "execution_count": 9,
   "id": "8d678220-7f32-48dd-88c5-8890bd39bf30",
   "metadata": {
    "tags": []
   },
   "outputs": [
    {
     "ename": "SyntaxError",
     "evalue": "unterminated string literal (detected at line 2) (1880449764.py, line 2)",
     "output_type": "error",
     "traceback": [
      "\u001b[1;36m  Cell \u001b[1;32mIn[9], line 2\u001b[1;36m\u001b[0m\n\u001b[1;33m    ttt\"\"\"\"))\u001b[0m\n\u001b[1;37m          ^\u001b[0m\n\u001b[1;31mSyntaxError\u001b[0m\u001b[1;31m:\u001b[0m unterminated string literal (detected at line 2)\n"
     ]
    }
   ],
   "source": [
    "print(html_str(\"\"\"sss\n",
    "ttt\"\"\"\"))"
   ]
  },
  {
   "cell_type": "code",
   "execution_count": 10,
   "id": "5b67dc2f-79a2-4910-ad32-e049cddf762b",
   "metadata": {
    "tags": []
   },
   "outputs": [
    {
     "name": "stdout",
     "output_type": "stream",
     "text": [
      "255(<i>0xff</i>)\n"
     ]
    }
   ],
   "source": [
    "print(html_int(255))"
   ]
  },
  {
   "cell_type": "code",
   "execution_count": null,
   "id": "ffc631ae-ef4a-45c1-8a75-f51891cbd639",
   "metadata": {},
   "outputs": [],
   "source": [
    "    "
   ]
  }
 ],
 "metadata": {
  "kernelspec": {
   "display_name": "Python 3 (ipykernel)",
   "language": "python",
   "name": "python3"
  },
  "language_info": {
   "codemirror_mode": {
    "name": "ipython",
    "version": 3
   },
   "file_extension": ".py",
   "mimetype": "text/x-python",
   "name": "python",
   "nbconvert_exporter": "python",
   "pygments_lexer": "ipython3",
   "version": "3.10.8"
  }
 },
 "nbformat": 4,
 "nbformat_minor": 5
}
