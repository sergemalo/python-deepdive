{
 "cells": [
  {
   "cell_type": "code",
   "execution_count": 1,
   "id": "c42d2a6a-d84e-4a7b-b286-cfda50ed8900",
   "metadata": {
    "tags": []
   },
   "outputs": [
    {
     "name": "stdout",
     "output_type": "stream",
     "text": [
      "(10.1, 10.9, -10.1, -10.9)\n"
     ]
    }
   ],
   "source": [
    "from math import trunc, floor, ceil\n",
    "my_floats = (10.1, 10.9, -10.1, -10.9)\n",
    "print(my_floats)"
   ]
  },
  {
   "cell_type": "markdown",
   "id": "c95ff44b-fec0-4ac8-a1b3-9b8a4a8bd2f0",
   "metadata": {
    "tags": []
   },
   "source": [
    "#### TRUNC / CEIL / FLOAT"
   ]
  },
  {
   "cell_type": "code",
   "execution_count": 2,
   "id": "f40a9f04-685d-497b-9c1f-c2092f91dfc6",
   "metadata": {
    "tags": []
   },
   "outputs": [
    {
     "data": {
      "text/plain": [
       "[10, 10, -10, -10]"
      ]
     },
     "execution_count": 2,
     "metadata": {},
     "output_type": "execute_result"
    }
   ],
   "source": [
    "my_ints = []\n",
    "for f in my_floats: my_ints.append(trunc(f)) # Same as my_ints_trunc.append(int(f))\n",
    "my_ints"
   ]
  },
  {
   "cell_type": "code",
   "execution_count": 3,
   "id": "7da66295-4f76-45d6-8dfe-cdfcdfc8455a",
   "metadata": {
    "tags": []
   },
   "outputs": [
    {
     "data": {
      "text/plain": [
       "[10, 10, -11, -11]"
      ]
     },
     "execution_count": 3,
     "metadata": {},
     "output_type": "execute_result"
    }
   ],
   "source": [
    "my_ints = []\n",
    "for f in my_floats: my_ints.append(floor(f))\n",
    "my_ints"
   ]
  },
  {
   "cell_type": "code",
   "execution_count": 4,
   "id": "19ef3bd3-6bac-41b6-b420-77495085023f",
   "metadata": {
    "tags": []
   },
   "outputs": [
    {
     "data": {
      "text/plain": [
       "[11, 11, -10, -10]"
      ]
     },
     "execution_count": 4,
     "metadata": {},
     "output_type": "execute_result"
    }
   ],
   "source": [
    "my_ints = []\n",
    "for f in my_floats: my_ints.append(ceil(f))\n",
    "my_ints"
   ]
  },
  {
   "cell_type": "markdown",
   "id": "ca0c6851-ce11-4d89-894c-dc780d5fe86b",
   "metadata": {
    "tags": []
   },
   "source": [
    "#### ROUND"
   ]
  },
  {
   "cell_type": "code",
   "execution_count": 5,
   "id": "5ebc335c-d5f2-49dd-936a-d7ff37028114",
   "metadata": {
    "tags": []
   },
   "outputs": [
    {
     "data": {
      "text/plain": [
       "[10, 11, -10, -11]"
      ]
     },
     "execution_count": 5,
     "metadata": {},
     "output_type": "execute_result"
    }
   ],
   "source": [
    "my_ints = []\n",
    "for f in my_floats: my_ints.append(round(f))\n",
    "my_ints"
   ]
  },
  {
   "cell_type": "code",
   "execution_count": null,
   "id": "abc6b144-38fd-42a0-98b9-4505dbd59f87",
   "metadata": {},
   "outputs": [],
   "source": []
  }
 ],
 "metadata": {
  "kernelspec": {
   "display_name": "Python 3 (ipykernel)",
   "language": "python",
   "name": "python3"
  },
  "language_info": {
   "codemirror_mode": {
    "name": "ipython",
    "version": 3
   },
   "file_extension": ".py",
   "mimetype": "text/x-python",
   "name": "python",
   "nbconvert_exporter": "python",
   "pygments_lexer": "ipython3",
   "version": "3.10.8"
  }
 },
 "nbformat": 4,
 "nbformat_minor": 5
}
