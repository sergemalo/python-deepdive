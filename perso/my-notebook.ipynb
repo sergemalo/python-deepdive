{
 "cells": [
  {
   "cell_type": "code",
   "execution_count": 2,
   "id": "c42d2a6a-d84e-4a7b-b286-cfda50ed8900",
   "metadata": {
    "tags": []
   },
   "outputs": [
    {
     "name": "stdout",
     "output_type": "stream",
     "text": [
      "(10.123456789, 10.987654321, -10.123456789, -10.987654321, 10.5, 11.5)\n"
     ]
    }
   ],
   "source": [
    "from math import trunc, floor, ceil\n",
    "my_floats = (10.123456789, 10.987654321, -10.123456789, -10.987654321, 10.5, 11.5)\n",
    "print(my_floats)"
   ]
  },
  {
   "cell_type": "markdown",
   "id": "c95ff44b-fec0-4ac8-a1b3-9b8a4a8bd2f0",
   "metadata": {
    "tags": []
   },
   "source": [
    "#### TRUNC / CEIL / FLOAT"
   ]
  },
  {
   "cell_type": "code",
   "execution_count": 3,
   "id": "f40a9f04-685d-497b-9c1f-c2092f91dfc6",
   "metadata": {
    "tags": []
   },
   "outputs": [
    {
     "data": {
      "text/plain": [
       "[10, 10, -10, -10, 10, 11]"
      ]
     },
     "execution_count": 3,
     "metadata": {},
     "output_type": "execute_result"
    }
   ],
   "source": [
    "my_ints = []\n",
    "for f in my_floats: my_ints.append(trunc(f)) # Same as my_ints_trunc.append(int(f))\n",
    "my_ints"
   ]
  },
  {
   "cell_type": "code",
   "execution_count": 4,
   "id": "7da66295-4f76-45d6-8dfe-cdfcdfc8455a",
   "metadata": {
    "tags": []
   },
   "outputs": [
    {
     "data": {
      "text/plain": [
       "[10, 10, -11, -11, 10, 11]"
      ]
     },
     "execution_count": 4,
     "metadata": {},
     "output_type": "execute_result"
    }
   ],
   "source": [
    "my_ints = []\n",
    "for f in my_floats: my_ints.append(floor(f))\n",
    "my_ints"
   ]
  },
  {
   "cell_type": "code",
   "execution_count": 5,
   "id": "19ef3bd3-6bac-41b6-b420-77495085023f",
   "metadata": {
    "tags": []
   },
   "outputs": [
    {
     "data": {
      "text/plain": [
       "[11, 11, -10, -10, 11, 12]"
      ]
     },
     "execution_count": 5,
     "metadata": {},
     "output_type": "execute_result"
    }
   ],
   "source": [
    "my_ints = []\n",
    "for f in my_floats: my_ints.append(ceil(f))\n",
    "my_ints"
   ]
  },
  {
   "cell_type": "markdown",
   "id": "ca0c6851-ce11-4d89-894c-dc780d5fe86b",
   "metadata": {
    "tags": []
   },
   "source": [
    "#### ROUND\n",
    "Python does \"bankers rounding\" - Rounds to nearest even when there is a tie (IEEE 754)\n",
    "Other ways of rounding:\n",
    "* Tie-breeaking Away from zero: sign(x) * int(abs(x) + 0.5) # Use Python math.copysign\n",
    "* Towards +Infinity"
   ]
  },
  {
   "cell_type": "code",
   "execution_count": 6,
   "id": "5ebc335c-d5f2-49dd-936a-d7ff37028114",
   "metadata": {
    "tags": []
   },
   "outputs": [
    {
     "data": {
      "text/plain": [
       "list"
      ]
     },
     "execution_count": 6,
     "metadata": {},
     "output_type": "execute_result"
    }
   ],
   "source": [
    "my_ints = []\n",
    "for f in my_floats: my_ints.append(round(f))\n",
    "my_ints\n",
    "type(my_ints)\n"
   ]
  },
  {
   "cell_type": "code",
   "execution_count": 7,
   "id": "3db609ff-360f-4ed6-a41a-d4a22a7a4f8e",
   "metadata": {
    "tags": []
   },
   "outputs": [
    {
     "data": {
      "text/plain": [
       "[10.12, 10.99, -10.12, -10.99, 10.5, 11.5]"
      ]
     },
     "execution_count": 7,
     "metadata": {},
     "output_type": "execute_result"
    }
   ],
   "source": [
    "my_ints = []\n",
    "for f in my_floats: my_ints.append(round(f, 2))\n",
    "my_ints"
   ]
  },
  {
   "cell_type": "code",
   "execution_count": 9,
   "id": "db715603-dab2-4bb1-a597-e96bcfac9a8c",
   "metadata": {
    "tags": []
   },
   "outputs": [
    {
     "data": {
      "text/plain": [
       "[10.0, 10.0, -10.0, -10.0, 10.0, 10.0]"
      ]
     },
     "execution_count": 9,
     "metadata": {},
     "output_type": "execute_result"
    }
   ],
   "source": [
    "my_ints = []\n",
    "for f in my_floats: my_ints.append(round(f, -1)) # Rounds to closes multiple of 10\n",
    "my_ints"
   ]
  },
  {
   "cell_type": "markdown",
   "id": "e6543c31-3af3-46e8-95a3-ee609696f746",
   "metadata": {
    "tags": []
   },
   "source": [
    "#### NEXT"
   ]
  },
  {
   "cell_type": "markdown",
   "id": "365b96fb-d9b8-4cda-baee-49ab616a0295",
   "metadata": {},
   "source": [
    "#### Ties"
   ]
  },
  {
   "cell_type": "markdown",
   "id": "b81fa229-481c-472c-95f6-87e9534b6067",
   "metadata": {
    "tags": []
   },
   "source": [
    "#### Decimals"
   ]
  },
  {
   "cell_type": "code",
   "execution_count": null,
   "id": "739ef8ba-60f2-474c-8af5-7e03d7d897dc",
   "metadata": {},
   "outputs": [],
   "source": []
  }
 ],
 "metadata": {
  "kernelspec": {
   "display_name": "Python 3 (ipykernel)",
   "language": "python",
   "name": "python3"
  },
  "language_info": {
   "codemirror_mode": {
    "name": "ipython",
    "version": 3
   },
   "file_extension": ".py",
   "mimetype": "text/x-python",
   "name": "python",
   "nbconvert_exporter": "python",
   "pygments_lexer": "ipython3",
   "version": "3.11.2"
  }
 },
 "nbformat": 4,
 "nbformat_minor": 5
}
