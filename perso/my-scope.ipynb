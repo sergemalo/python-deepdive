{
 "cells": [
  {
   "cell_type": "markdown",
   "id": "53f25993-9637-4704-b4f9-ed313b070959",
   "metadata": {},
   "source": [
    "# SCOPES !!!!"
   ]
  },
  {
   "cell_type": "code",
   "execution_count": 27,
   "id": "612266aa-cc77-44f8-8ee6-8a752637d3bc",
   "metadata": {
    "tags": []
   },
   "outputs": [
    {
     "name": "stdout",
     "output_type": "stream",
     "text": [
      "10 2854832570896\n",
      "pp- 10 2854832570896\n",
      "pp--- 11 2854832570928\n",
      "10 2854832570896\n",
      "pp2-- 11 2854832570928\n",
      "12 2854832570960\n"
     ]
    }
   ],
   "source": [
    "a = 10\n",
    "def pp(a):\n",
    "    print(\"pp-\", a, id(a))    # Uses parameter \"a\"\n",
    "    a = 11                    # LOCALS ARE CREATED AT RUNTIME TIME, but python knows it a compile time\n",
    "    print(\"pp---\", a, id(a))  # Uses local \"a\"\n",
    "    \n",
    "def pp2():\n",
    "    #print(\"pp2-\", a, id(a)) # This creates an error: We try to use a local variable \"a\", but later want to use the global \"a\"\n",
    "    global a # This variable is in the global scope for the whole function\n",
    "    a = 11\n",
    "    print(\"pp2--\", a, id(a))\n",
    "    a = 12\n",
    "    \n",
    "print(a, id(a))\n",
    "pp(a)\n",
    "print(a, id(a))\n",
    "pp2()\n",
    "print(a, id(a))\n"
   ]
  },
  {
   "cell_type": "markdown",
   "id": "c2df01c7-1ed1-4c46-99d2-199ddf9eac44",
   "metadata": {},
   "source": [
    "# Nonlocal Scope"
   ]
  },
  {
   "cell_type": "code",
   "execution_count": 25,
   "id": "8a9ae320-aaf9-4783-b17b-7738a0866eeb",
   "metadata": {
    "tags": []
   },
   "outputs": [
    {
     "name": "stdout",
     "output_type": "stream",
     "text": [
      "outer:  11\n",
      "inner:  12\n",
      "outer 2:  12\n",
      "global:  10\n"
     ]
    }
   ],
   "source": [
    "a = 10;\n",
    "def outer():\n",
    "    #global a\n",
    "    a = 11\n",
    "    print(\"outer: \", a)\n",
    "    def inner():\n",
    "        nonlocal a # Use \"a\" defined in outer - if it is only in the global scope, we get an error\n",
    "        a = 12\n",
    "        print(\"inner: \", a)\n",
    "    inner()\n",
    "    print(\"outer 2: \", a)\n",
    "\n",
    "outer()\n",
    "print(\"global: \", a)"
   ]
  },
  {
   "cell_type": "code",
   "execution_count": null,
   "id": "6dee2322-3256-4b04-a017-691a14d023a7",
   "metadata": {},
   "outputs": [],
   "source": []
  }
 ],
 "metadata": {
  "kernelspec": {
   "display_name": "Python 3 (ipykernel)",
   "language": "python",
   "name": "python3"
  },
  "language_info": {
   "codemirror_mode": {
    "name": "ipython",
    "version": 3
   },
   "file_extension": ".py",
   "mimetype": "text/x-python",
   "name": "python",
   "nbconvert_exporter": "python",
   "pygments_lexer": "ipython3",
   "version": "3.10.8"
  }
 },
 "nbformat": 4,
 "nbformat_minor": 5
}
